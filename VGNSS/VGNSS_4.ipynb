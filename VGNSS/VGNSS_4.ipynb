{
 "cells": [
  {
   "cell_type": "markdown",
   "metadata": {},
   "source": [
    " <style>\n",
    ".footer {\n",
    "  position: fixed;\n",
    "  left: 0;\n",
    "  bottom: 0;\n",
    "  width: 100%;\n",
    "  background-color: white;\n",
    "  color: grey;\n",
    "  text-align: left;\n",
    "  font-size: 8px;\n",
    "}\n",
    "</style>\n",
    "<style>\n",
    ".header {\n",
    "  position: fixed;\n",
    "  left: 0;\n",
    "  top: 0;\n",
    "  width: 100%;\n",
    "  background-color: white;\n",
    "  color: grey;\n",
    "  text-align: center;\n",
    "  font-size: 8px;\n",
    "}\n",
    "\n",
    "\n",
    "<img align=\"left\" width=\"30%\" style=\"padding-right:10px;\" src=\"../Images/Ccom.png\">\n",
    "\n",
    "___\n",
    "# Computational Problem Set - Being a VGNSS Receiver\n",
    "\n",
    "## Step 4 Create Observations\n",
    "\n",
    "## Semme J. Dijkstra\n",
    "\n",
    "\n",
    "## Objective \n",
    "\n",
    "The objective of this step is to perform the necessary coordinate transforms to be able to create observation models and a sky plot.\n",
    "\n",
    "## Implementation\n",
    "\n",
    "First we will calculate the Earth Centered Earth Fixed Cartesian WGS84 coordinates. This allows us to calculate the true ranges from our chosen receiver coordinates to the reported locations of the satellite vehicles using Pythagoras’ method. \n",
    "\n",
    "Then we will calculate the **true** ranges to the satellites (assuming the ephemeris are free of error).\n",
    "\n",
    "Subsequently we will calculate the satellite coordinates in both a Cartesian as well as a Polar reference frame.\n",
    "\n",
    "Finally we will determine which satellites are visible and create a sky plot of the visible satellites\n"
   ]
  },
  {
   "cell_type": "markdown",
   "metadata": {},
   "source": [
    "<img align=\"left\" width=\"30%\" style=\"padding-right:10px;\" src=\"../Images/Ccom.png\">\n",
    "\n",
    "___\n",
    "# Computational Problem Set - Being a VGNSS Receiver\n",
    "\n",
    "## Step 4 Create Observations\n",
    "\n",
    "## Semme J. Dijkstra\n",
    "\n",
    "<a href=\"https://teams.microsoft.com/l/channel/19%3aa57a4134d14d4209811498bd3c27b2f7%40thread.tacv2/VGNSS?groupId=940e4857-5e57-448f-a05f-080a11df87ca&tenantId=d6241893-512d-46dc-8d2b-be47e25f5666\"><img src=\"../Images/help.png\"  title=\"Ask questions on Teams\" align=\"right\" width=\"10%\" alt=\"Piazza.com\\\"></a><br><br> \n",
    "\n",
    "___\n",
    "## Objective \n",
    "\n",
    "The objective of this step is to perform the necessary coordinate transforms to be able to create observation models and a sky plot.\n",
    "\n",
    "## Implementation\n",
    "\n",
    "First we will calculate the Earth Centered Earth Fixed Cartesian WGS84 coordinates. This allows us to calculate the true ranges from our chosen receiver coordinates to the reported locations of the satellite vehicles using Pythagoras’ method. \n",
    "\n",
    "Then we will calculate the **true** ranges to the satellites (assuming the ephemeris are free of error).\n",
    "\n",
    "Subsequently we will calculate the satellite coordinates in both a Cartesian as well as a Polar reference frame centered on the receiver.\n",
    "\n",
    "Finally we will determine which satellites are visible and create a sky plot of the visible satellites"
   ]
  },
  {
   "cell_type": "code",
   "execution_count": 119,
   "metadata": {},
   "outputs": [
    {
     "name": "stdout",
     "output_type": "stream",
     "text": [
      "The autoreload extension is already loaded. To reload it, use:\n",
      "  %reload_ext autoreload\n",
      "C:\\Users\\lfreguete\\Documents\\UNH\\POS FOR OCEAN MAPPING\\assignment\\ESCI_OE_771_871_Public\n"
     ]
    }
   ],
   "source": [
    "%load_ext autoreload\n",
    "%autoreload 2\n",
    "\n",
    "import sys\n",
    "import os\n",
    "import numpy as np\n",
    "\n",
    "from numpy import cos,pi,sin,pi,arccos, tan, arctan, arctan2, sqrt\n",
    "import matplotlib.pyplot as plt\n",
    "from datetime import datetime, timedelta\n",
    "from pathlib import Path\n",
    "from IPython.display import HTML\n",
    "vgnss_path=Path('../') # Get the path to the folder containing the mycode folder\n",
    "print(vgnss_path.resolve())\n",
    "sys.path.append(str(vgnss_path.resolve())) # add the folder to the list of paths \n",
    "data_path=Path('../mydata')\n",
    "\n",
    "from mycode.gnss import GNSS\n",
    "from mycode.sp3 import SP3\n",
    "\n",
    "\n",
    "verbose = True"
   ]
  },
  {
   "cell_type": "markdown",
   "metadata": {},
   "source": [
    "___\n",
    "# 4 Convert Receiver to Cartesian Coordinates\n",
    "\n",
    "GNSS use carrier frequencies in the L band i.e., they are microwave signals and thus GNSS are line of sight systems. Assuming they are functioning correctly and no extreme environmental events are occurring this means that satellites are visible when they are above the horizon. Since our ephemerides are given with respect to an ECEF reference frame with an ‘up’ axis aligned to the Earth’s rotation axis we cannot simply glean whether a satellite is visible from its coordinates. However, determining the visibility of a satellite is a simple geometric problem with the right choice of reference system, namely one aligned to the horizon plane at the location of the GNSS receiver, such systems are known as topocentric systems and, just like geocentric systems, come in polar and Cartesian form.\n",
    "\n",
    "___\n",
    "\n",
    "## 4.0 Execute the Code from Previous Steps\n",
    "\n",
    "### Objective:\n",
    "\n",
    "Get the current state that to represent the state as defined in steps 1. With this VGNSS project we are taking steps throughout the term that rely on previous steps.\n",
    "\n",
    "\n",
    "### Assignment:\n",
    "\n",
    "Update the code cell below to execute your step 1 containing the initialization code. Create the object `gnss` of class `GNSS` using the argument `data_path` (see step 3 for an example). Then add the ephemeris data for the `epoch` defined in step 1. \n",
    "\n",
    "### Deliverable:\n",
    "\n",
    "Execute step VGNSS_1 and create an `GNSS` object named `gnss`. Then add the ephemeris for the epoch `epoch` defined in step 1.\n"
   ]
  },
  {
   "cell_type": "code",
   "execution_count": 120,
   "metadata": {},
   "outputs": [
    {
     "name": "stdout",
     "output_type": "stream",
     "text": [
      "The autoreload extension is already loaded. To reload it, use:\n",
      "  %reload_ext autoreload\n",
      "C:\\Users\\lfreguete\\Documents\\UNH\\POS FOR OCEAN MAPPING\\assignment\\ESCI_OE_771_871_Public\n",
      "Working on own data\n",
      "-0.3548884627089914 -0.704245201316523 10\n",
      "09:00 UTC Thursday December 24, 2020 \n",
      "299792458 1.000692285594456e-06\n",
      "[-2.5192433427569716, 3.1140328541658953, -0.9590662191069916, 0.5832997488670417, 3.1478779458135353, -4.139900913433019, 0.6228883561621509, -1.735913897893909, -1.320568100160103, 1.6743910842383203, -0.10959394985156076, 0.36622965389000295, 0.8547780459661369, -1.7088611727859813, -2.7373151363931667, -3.9407536710940843, -1.5688749800547588, -2.1699149034192473, 1.4743515700473067, 8.687159961415814, -0.5647341024418024, -1.8934690955828533, -0.8678462775899527, 0.009972113793672332, 2.973609815486454, -0.7476103680138486, 5.1691425909587645, 5.402059801119673, 0.5746670257804193, -0.8439260689521233, 4.611802258732218, -4.161009818872474, 4.316380275650085, 6.938293069065228, -2.3901766473141004, -1.802196842942669, -2.0159952430576213, 0.9545248499907661, 7.743306493640391, -1.008580038984365, 3.013495086960032, 2.932825910444101, 6.266522660269128, -3.066659228244169, -1.8813965183950598, -1.9474832860523184, 2.3074558999205044, -3.5110199686223007, -1.6497745551269567, -0.25137102770911635, 5.5692060760160835, 2.130558510066829]\n",
      "0.2 0.02617993877991494\n",
      "[2, 26] 1000\n",
      "[2000, 2000, 2000, 70]\n",
      "Reading SP3 file: ..\\mydata\\igs21374.sp3\n",
      "Reading SP3 file: ..\\mydata\\igl21374.sp3\n",
      "Reading rinex nav file: ..\\mydata\\brdc3590.20n\n"
     ]
    }
   ],
   "source": [
    "# Start by running your first step\n",
    "worked_example = False\n",
    "%run VGNSS_1.ipynb\n",
    "\n",
    "\n",
    "gnss = GNSS(data_path)\n",
    "gnss.add_next_epoch_ephemeris(epoch.year, epoch.month, epoch.day,\n",
    "                              epoch.hour, epoch.minute, epoch.second, epoch.microsecond)\n",
    "\n"
   ]
  },
  {
   "cell_type": "markdown",
   "metadata": {},
   "source": [
    "___\n",
    "## 4.1 Calculate the ECEF Coordinates of the Receiver\n",
    "\n",
    "\n",
    "### Objective:\n",
    "\n",
    "Using the geodetic latitude $\\varphi$, longitude $\\lambda$ and ellipsoid height $h$, defined in Step 1, and using the WGS-84 ellipsoid (semi-major axis $a = 6378137$ m, semi-minor axis $b = 6356752.3142$ m), determine the Cartesian ECEF $XYZ$ coordinates for that location.  Use the Transformation ($\\varphi$,$\\lambda$,$h$) to ($XYZ$):\n",
    "\n",
    "$$\\begin{bmatrix}x \\\\ y \\\\ z \\end{bmatrix} = \n",
    "\\begin{bmatrix}(N+h)\\cos\\varphi\\cos\\lambda \\\\\n",
    "                (N+h)\\cos\\varphi\\sin\\lambda \\\\ \n",
    "                \\left(N\\dfrac{b^2}{a^2}+h\\right)\\sin\\varphi \\end{bmatrix}$$\n",
    "\n",
    "\n",
    "Where $N(\\varphi)$ is the prime vertical radius of curvature, given by:\n",
    "\n",
    "$$N(\\varphi)=\\dfrac{a}{\\sqrt{\\cos^2\\varphi + \\dfrac{b^2}{a^2}\\sin^2\\varphi}}$$\n",
    "\n",
    "or, alternatively\n",
    "\n",
    "$$N(\\varphi)=\\dfrac{a}{\\sqrt{1-e^2\\sin^2\\varphi}}$$\n",
    "\n",
    "where:\n",
    "\n",
    "$$ e^2=\\dfrac{a^2-b^2}{a^2}=1-\\dfrac{b^2}{a^2}$$\n",
    "\n",
    "$N(\\varphi)\\cos\\varphi$ is then the radius of curvature of the parallel through latitude $\\varphi$ \n",
    "\n",
    "$N(\\varphi)$ has its minimum value at the equator where $\\sin\\varphi = 0, \\cos\\varphi = 1 \\Rightarrow N = a = 6378137$.\n",
    "\n",
    "N has its maximum value at the poles where $\\sin\\varphi = ±1, \\cos\\varphi = 0 \\Rightarrow N = a^2 / b = 6399593.625$.  \n",
    "\n",
    "<img align=\"left\" width=\"100%\" style=\"padding-right:30px;\" src=\"../Images/N.png\">"
   ]
  },
  {
   "cell_type": "markdown",
   "metadata": {},
   "source": [
    "___\n",
    "### 4.1.0 WGS=84 Reference Ellipsoid Definition\n",
    "\n",
    "For the transformation from geodetic latitude and longitude to ECEF coordinates within WGS-84 we need to determine the prime radius of curvature $N$. As we have seen in 4.1 $N$ is a function of the geodetic latitude $\\varphi$ and the eccentricity $e$ of the reference ellipsoid. In the code cell below the semi-major and -minor axes of the WGS-84 reference ellipsoid are given; calculate the flattening $f$ as `f`, the squared eccentricity $e^2$ as `e2`\n"
   ]
  },
  {
   "cell_type": "code",
   "execution_count": 121,
   "metadata": {},
   "outputs": [
    {
     "name": "stdout",
     "output_type": "stream",
     "text": [
      "a:      6378137.000\n",
      "b:      6356752.314\n",
      "f:  0.0033528106718\n",
      "e2: 0.0066943800043\n"
     ]
    }
   ],
   "source": [
    "# 4.1.0 The parameters for WGS-84\n",
    "a = 6378137.0000\n",
    "b = 6356752.3142\n",
    "\n",
    "# Calculate f, e2 and N\n",
    "f = 1 - b/a\n",
    "e2 = 1 - (b**2)/(a**2)\n",
    "\n",
    "if verbose:\n",
    "    print('a:  %15.3f' % (a))\n",
    "    print('b:  %15.3f' % (b))\n",
    "    print('f:  %15.13f' % (f))\n",
    "    print('e2: %15.13f' % (e2))"
   ]
  },
  {
   "cell_type": "markdown",
   "metadata": {},
   "source": [
    "Worked Example:\n",
    "\n",
    "    a:      6378137.000\n",
    "    b:      6356752.314\n",
    "    f:  0.0033528106718\n",
    "    e2: 0.0066943800043\n"
   ]
  },
  {
   "cell_type": "markdown",
   "metadata": {},
   "source": [
    "___\n",
    "### 4.1.1 Prime radius of Curvature\n",
    "\n",
    "Now calculate the prime radius of curvature $N(\\varphi)$ for your $\\varphi$=`lat` as `N`\n"
   ]
  },
  {
   "cell_type": "code",
   "execution_count": 122,
   "metadata": {},
   "outputs": [
    {
     "name": "stdout",
     "output_type": "stream",
     "text": [
      "N:     6380716.3583\n"
     ]
    }
   ],
   "source": [
    "# 4.1.1 Prime radius of curvature\n",
    "N = a/sqrt(1 - e2*sin(lat)**2)\n",
    "\n",
    "if verbose:\n",
    "    print('N:  %15.4f' % (N))   "
   ]
  },
  {
   "cell_type": "markdown",
   "metadata": {},
   "source": [
    "Worked Example:\n",
    "\n",
    "    N = \n",
    "    6383561.9968\n"
   ]
  },
  {
   "cell_type": "markdown",
   "metadata": {},
   "source": [
    "___\n",
    "### 4.1.2 ECEF Coordinates of the given location\n",
    "\n",
    "Use the transformation defined in 4.1 to calculate the ECEF coordinates of your location and store them in the numpy array `xyz`. This array is to be column-vector of dimensions 3x1. \n",
    "\n",
    "Remember that numpy arrays are by default 1 dimensional, the concepts of row and a column vector are associated to 2-dimensional arrays! \n"
   ]
  },
  {
   "cell_type": "code",
   "execution_count": 123,
   "metadata": {},
   "outputs": [
    {
     "name": "stdout",
     "output_type": "stream",
     "text": [
      "xyz = \n",
      "\t    4559733.232\n",
      "\t   -3873819.056\n",
      "\t   -2202368.845\n",
      "\n",
      "xyz is a 2 dimensional array with dimension lengths (3, 1)\n"
     ]
    }
   ],
   "source": [
    "# 4.1.2 To create a 3x1 array use xyz = np.array([[1],[2],[3]])\n",
    "\n",
    "xyz = np.array([[(N+height)*cos(lat)*cos(lon)],[(N+height)*cos(lat)*sin(lon)],[(N*(1-e2)+height)*sin(lat)]])\n",
    "\n",
    "if verbose:\n",
    "    print('xyz = ')\n",
    "    for i in range(len(xyz)):\n",
    "        print('\\t%15.3f' % (xyz[i]))\n",
    "        \n",
    "    print('\\nxyz is a %d dimensional array with dimension lengths %s'%(xyz.ndim,xyz.shape))"
   ]
  },
  {
   "cell_type": "markdown",
   "metadata": {},
   "source": [
    "Worked Example:\n",
    "    \n",
    "    xyz = \n",
    "\t      36572.327\n",
    "\t   -5514234.862\n",
    "\t    3194349.181"
   ]
  },
  {
   "cell_type": "markdown",
   "metadata": {},
   "source": [
    "___\n",
    "## 4.2 Compute Baselines Spanning the Receiver and Satellite Locations\n",
    "\n",
    "Calculate the coordinate differences $\\Delta x, \\Delta y, \\Delta z$ between your receiver and each satellite.\n",
    "\n",
    "Compute the coordinate differences using the Cartesian coordinates for your location `xyz` and the Cartesian GNSS coordinates `eph_gps` and `eph_gln`.\n",
    "\n",
    "The columns of `eph_gps` and `eph_gln` hold the *PRN*$, x, y, z$  of each SV respectively, thus to get the ephemeris as a $3xn$ matrix with the x-coordinates on the $1^{st}$ row, the y-coordinates on the $2^{nd}$ row, and the z-coordinates on the $3^d$ row you would use `eph_gps[:,1:4].T`. To get the coordinate differences you may then simply subtract the coordinates `xyz`\n",
    "\n",
    "___\n",
    "### 4.2.0 Calculate the GPS Baselines\n",
    "\n",
    "First of lets note that `numpy` has two forms of assignment for arrays; the first form of assignment is where we simply state `array_a = array_b`. This results in `array_a` being identical in every sense to `array_b` with the exception of its name i.e., the array holds the same space in memory and if you alter `array_a` you are altering `array_b` as well! Often this is not the intention, we want to make a *copy* of `array_b` and assign it to `array_a` i.e. we want `array_a` to have the same contents as `array_b`, but be located in a different place in memory; if we then alter `array_a` `array_b` remains unaffected. \n",
    "\n",
    "In this case we will use the default assignment, which results in a variable pointing at the exact same array - we will do this to make the code more legible. For example the statement:\n",
    "\n",
    "    Dxyz_gps = gnss.eph_gps_sp3[-1][:, 1:4].T-xyz\n",
    "    \n",
    "May be hard to interpret due to the complex nature of the term on the right hand side of the `=` operator. Note that `gnss.eph_gps_sp3[-1]` is in this case the last element of the array `eph_gps_sp3` contained within the object `gnss` of class `GNSS`. All we care about is that it is the GPS ephemeris that we are interested in, so we may say\n",
    "\n",
    "    eph_gps=gnss.eph_gps_sp3[-1]\n",
    "    \n",
    "and then use `eph_gps` to represent this array, as shown above. This takes very little compute time as the only operations are to create the variable and 'point' it at the array of interest.\n",
    "\n",
    "    Dxyz_gps = eph_gps[:, 1:4].T-xyz\n",
    "\n",
    "\n",
    "Calculates the receiver to GPS satellite baselines as `Dxyz_gps` which is a $3xn$ matrix with as the elements on the first row the elements $\\Delta x$, the second $\\Delta y$, and the third $\\Delta z$. \n",
    "\n",
    "Also calculate the number of GPS satellites `n_gps`"
   ]
  },
  {
   "cell_type": "code",
   "execution_count": 124,
   "metadata": {},
   "outputs": [
    {
     "name": "stdout",
     "output_type": "stream",
     "text": [
      "n_gps: 32\n",
      "\n",
      "Dxyz_gps = \n",
      "\t    7370154.626    17424274.976   -17633177.538\n",
      "\t    7508143.579   -10411119.654    21720178.555\n",
      "\t    8502601.185    27060000.610     2504004.199\n",
      "\t    -410291.865    21946758.787    21201109.477\n",
      "\t   -3366535.633   -16755738.098    18635173.241\n",
      "\t   19402029.934    -2229474.087    12020596.400\n",
      "\t   19844868.915    10895594.575    11116937.076\n",
      "\t   -7024443.090    26520920.338   -11200576.964\n",
      "\t    9140249.714    10856642.831    23793203.552\n",
      "\t  -21419036.318     2533445.280   -18244023.546\n",
      "\t   -2561186.342    20837115.809   -18648317.215\n",
      "\t  -13852069.293   -20944382.358     -788822.622\n",
      "\t    7650953.491   -18752147.497    -4348009.306\n",
      "\t   12803315.593     7793247.965   -17518857.997\n",
      "\t   -5803881.725   -18665115.355   -11861809.258\n",
      "\t   -8115866.411    23805124.857    18913728.451\n",
      "\t   14541972.679    -6693879.835   -12476039.102\n",
      "\t  -29745363.441    -1649328.187     8696127.235\n",
      "\t   14957428.391   -11618465.158    -7149968.702\n",
      "\t  -24993055.766    -7838770.685   -10395875.065\n",
      "\t   -1385808.393    18655245.239   -18924657.736\n",
      "\t    4574525.501    27568725.730    -5657174.306\n",
      "\t  -23332576.857    -7843936.409   -12536493.405\n",
      "\t  -12326299.954   -11112603.176   -18608430.730\n",
      "\t  -21739075.363   -14428929.817    11046485.087\n",
      "\t  -15940851.080    14825018.369    23491430.803\n",
      "\t  -16588725.433    27214696.261     -328210.304\n",
      "\t   11119746.466     4488772.374   -18625478.430\n",
      "\t  -16266909.596    -4984990.543    24299908.815\n",
      "\t   22058376.518     3811693.376      409744.261\n",
      "\t  -27526881.025    11088081.062    13857452.255\n",
      "\t  -23352790.935    15298045.572   -12481520.729\n",
      "[[ 4559733.23220028]\n",
      " [-3873819.05632497]\n",
      " [-2202368.84465033]]\n"
     ]
    }
   ],
   "source": [
    "# 4.2.0 Calculate the Receiver to GPS SV baselines\n",
    "\n",
    "eph_gps = gnss.eph_gps_sp3[-1]\n",
    "Dxyz_gps = eph_gps[:,1:4].T -xyz\n",
    "n_gps = len(eph_gps)\n",
    "\n",
    "if verbose:\n",
    "    print('n_gps: %d\\n' % n_gps)\n",
    "    print('Dxyz_gps = ')\n",
    "    for i in range(n_gps):\n",
    "        print('\\t%15.3f %15.3f %15.3f' %\n",
    "              (Dxyz_gps[0, i], Dxyz_gps[1, i], Dxyz_gps[2, i]))\n",
    "        \n",
    "print(xyz)"
   ]
  },
  {
   "cell_type": "markdown",
   "metadata": {},
   "source": [
    "Worked Example: \n",
    "    \n",
    "    n_gps: 29\n",
    "\n",
    "    Dxyz_gps = \n",
    "\t  -14810463.942    -9214095.559    13455967.472\n",
    "\t   13541201.761    26996353.844   -11445216.142\n",
    "\t  -20837451.276    -5980879.278   -15470790.135\n",
    "\t    4277463.860    31010341.499     2010886.176\n",
    "\t   19866345.462    -2252512.679    12298837.345\n",
    "\t   19536837.223    -3005783.142   -18858064.521\n",
    "\t    1056165.459    21661718.797    18312365.287\n",
    "\t   -1693033.087    28948943.100   -15370289.657\n",
    "\t   16587628.101     9753457.220    16646292.719\n",
    "\t   10672113.144    15868113.131   -25254163.661\n",
    "\t  -18260686.195     3057009.440    15996499.532\n",
    "\t  -17546989.320    13977292.747   -21333245.702\n",
    "\t   -1885582.145    -9653405.509    18588638.157\n",
    "\t    1220764.007   -18741048.436   -13693598.206\n",
    "\t   -7683192.651    -8259833.733   -24482868.704\n",
    "\t   17726871.047   -14000316.519    -2361359.148\n",
    "\t  -25475529.807    -1983255.367    -4599143.232\n",
    "\t  -20743125.374    15530137.349     9995455.690\n",
    "\t    9366881.387   -10434915.408   -22023974.206\n",
    "\t    9253116.170   -16307472.396     8916502.587\n",
    "\t  -25076162.220     7074338.432   -12229593.431\n",
    "\t   -6810914.778    24852585.384    13858646.355\n",
    "\t   -9357761.652   -19242133.976     -933274.172\n",
    "\t   25109342.477    14017330.327    -7784749.187\n",
    "\t   -8234024.193    21182403.553   -22326313.357\n",
    "\t  -10486381.208    27685817.508     6844088.972\n",
    "\t   22889767.807    15621546.364   -12058157.340\n",
    "\t   19140580.427   -11855475.027     2253855.407\n",
    "\t   -9084497.639    19470755.871    17197789.811"
   ]
  },
  {
   "cell_type": "markdown",
   "metadata": {},
   "source": [
    "___\n",
    "### 4.2.1 Calculate the GLONASS Baselines\n",
    "\n",
    "Calculate the receiver to GLONASS satellite baselines as `Dxyz_gln` which is a $3xn$ matrix with as the elements on the first row the elements $\\Delta x$, the second $\\Delta y$ and the third $\\Delta z$. Also calculate the number of GPS satellites `n_gps`"
   ]
  },
  {
   "cell_type": "code",
   "execution_count": 125,
   "metadata": {},
   "outputs": [
    {
     "name": "stdout",
     "output_type": "stream",
     "text": [
      "n_gln: 20\n",
      "\n",
      "Dxyz_gln = \n",
      "\t   -5738933.359   -21342991.844    -1428743.706\n",
      "\t  -13752777.852    -7950021.748   -18430623.021\n",
      "\t  -15292652.189    11365746.771   -19645574.747\n",
      "\t  -10580841.482    26203056.200    -8529738.236\n",
      "\t   -2677582.178    28474389.216     8630234.675\n",
      "\t    6132631.642    -4359357.708    23887882.216\n",
      "\t    1555299.980   -18453782.675    12987328.755\n",
      "\t   17418399.525    16833845.538     1008600.115\n",
      "\t  -16625725.295   -12416879.496   -13271644.093\n",
      "\t  -26464972.842    -9177306.435     2986376.886\n",
      "\t  -23337184.214     1798937.488    19348518.158\n",
      "\t   -9458978.794    13758447.533    25220283.146\n",
      "\t    8374246.972    20014452.852    17015750.564\n",
      "\t  -27746140.675    12958412.135     7840790.125\n",
      "\t  -22145734.744    18506549.895    -9005909.386\n",
      "\t   -8232749.258    16440237.740   -19683617.609\n",
      "\t   10930174.282     6373123.341   -17907957.140\n",
      "\t   18622408.663    -5724527.726    -2302260.570\n",
      "\t   12393107.031   -10801213.509    14445160.127\n",
      "\t  -20775539.257     1622233.677    21793092.235\n"
     ]
    }
   ],
   "source": [
    "## 4.2.1 Calculate the Receiver to GLONASS SV baselines\n",
    "\n",
    "eph_gln= gnss.eph_gln_sp3[-1]\n",
    "Dxyz_gln = eph_gln[:,1:4].T -xyz\n",
    "n_gln = len(eph_gln)\n",
    "\n",
    "if verbose:\n",
    "    print('n_gln: %d\\n'%n_gln)\n",
    "    print('Dxyz_gln = ')\n",
    "    for i in range(n_gln):\n",
    "        print('\\t%15.3f %15.3f %15.3f'%(Dxyz_gln[0,i],Dxyz_gln[1,i],Dxyz_gln[2,i]))"
   ]
  },
  {
   "cell_type": "markdown",
   "metadata": {},
   "source": [
    "Worked Example: \n",
    "    \n",
    "    n_gln: 12\n",
    "\n",
    "    Dxyz_gln = \n",
    "\t   -2448746.691    -7984160.129    18284016.428\n",
    "\t  -14013514.736     7150982.135    17961015.926\n",
    "\t  -17384618.397    22405518.058     5024035.516\n",
    "\t  -11412690.470    26567751.210   -12134510.027\n",
    "\t   14801947.232     2407343.587   -23825582.469\n",
    "\t   10528886.218   -15641740.719     6337852.910\n",
    "\t  -20754319.335     9638717.726    11107883.884\n",
    "\t    3414179.268    16869382.924    19478742.850\n",
    "\t   20485927.787     1326296.973   -17730858.730\n",
    "\t    4450356.718    -4801088.714   -26089321.968\n",
    "\t  -15083121.192    -4935593.654   -20931970.548\n",
    "\t  -25005552.864      962220.444    -5776282.110"
   ]
  },
  {
   "cell_type": "markdown",
   "metadata": {},
   "source": [
    "___\n",
    "### 4.3 Compute the True Receiver to Satellite Ranges\n",
    "\n",
    "Calculate the true geometric range $\\rho$ to each GNSS satellite, under the conditions (time and location) of your virtual GNSS fix.\n",
    "\n",
    "Using the coordinate differences `Dxyz_gps` and `Dxyz_gln` from Step 4.2, compute distances `rho_gps` and `rho_gln` between your location and each GNSS satellite, at the instant of interest.  The equation involved is:\n",
    "\n",
    "$$\\rho = \\sqrt{(x_{sat}-x_{rx})^2+(y_{sat}-y_{rx})^2+(z_{sat}-z_{rx})^2}$$ \n",
    "\n",
    "or, equivalently:\n",
    "\n",
    "$$\\rho = \\sqrt{(\\Delta x)^2+(\\Delta y)^2+(\\Delta z)^2}$$ \n",
    "\n",
    "or equivalently:\n",
    "\n",
    "$$\\rho = \\sqrt{\\Delta xyz^T\\cdot\\Delta xyz}$$ \n",
    "\n",
    "Where:\n",
    "\n",
    "$\\rho$  = the **true** distance to be observed from a specific GNSS satellite\n",
    "\n",
    "$x_{sat}, y_{sat}, z_{sat}$ = the Cartesian coordinates (in m) for a specific GNSS satellite, at the time of the virtual GNSS fix (from Step 3)\n",
    "\n",
    "$x_{rx}, y_{rx}, z_{rx}$ = the Cartesian coordinates (in m) for a specific GNSS satellite, at the time of the virtual GNSS fix (from Step 4.1.2)\n",
    "\n",
    "$\\Delta xyz$ = The vector holding $\\Delta x, \\Delta y, \\Delta z$ in its columns e.g., `Dxyz_gps[:,i]` for satellite vehicle `i`\n",
    "\n"
   ]
  },
  {
   "cell_type": "markdown",
   "metadata": {},
   "source": [
    "___\n",
    "### 4.3.0 Compute the True Receiver to GPS Satellite Ranges\n",
    "\n",
    "Calculate the true geometric range $\\rho$ to each GPS satellite and assign it to the nx1 vector `rho_gps` using the equations in 4.3 and the variable `Dxyz_gps`. Note that it is helpful to know that to extract column `i` from a matrix `A` as a column vector `a` you should use:\n",
    "\n",
    "    a = A[:,i:i+1]\n",
    "    \n",
    "You should use this rather than the at first sight more logical `a = A[:,i]` as that expression would return a one-dimensional array, which would not allow for the correct use of the inner product.\n"
   ]
  },
  {
   "cell_type": "code",
   "execution_count": 126,
   "metadata": {},
   "outputs": [
    {
     "data": {
      "text/plain": [
       "(3, 32)"
      ]
     },
     "execution_count": 126,
     "metadata": {},
     "output_type": "execute_result"
    }
   ],
   "source": [
    "Dxyz_gps.shape"
   ]
  },
  {
   "cell_type": "code",
   "execution_count": 127,
   "metadata": {},
   "outputs": [
    {
     "name": "stdout",
     "output_type": "stream",
     "text": [
      "rho_gps = \n",
      "\t   25862201.912\n",
      "\t   25229541.987\n",
      "\t   28474688.707\n",
      "\t   30517463.913\n",
      "\t   25285529.520\n",
      "\t   22932598.154\n",
      "\t   25221401.494\n",
      "\t   29633679.161\n",
      "\t   27704284.752\n",
      "\t   28249563.836\n",
      "\t   28080327.735\n",
      "\t   25123081.364\n",
      "\t   20714374.478\n",
      "\t   23055801.646\n",
      "\t   22864253.611\n",
      "\t   31468720.676\n",
      "\t   20296022.968\n",
      "\t   31034328.711\n",
      "\t   20244393.030\n",
      "\t   28181081.966\n",
      "\t   26609797.260\n",
      "\t   28512533.088\n",
      "\t   27624267.376\n",
      "\t   24933939.002\n",
      "\t   28333835.711\n",
      "\t   32027163.845\n",
      "\t   31873707.441\n",
      "\t   22151891.243\n",
      "\t   29663918.267\n",
      "\t   22389034.623\n",
      "\t   32752155.709\n",
      "\t   30580572.304\n"
     ]
    }
   ],
   "source": [
    "## 4.3.0 Calculate the range from the receiver to each GPS satellite\n",
    "# First allocate memory by creating a n_gpsx1 2D array\n",
    "\n",
    "rho_gps=np.zeros((n_gps,1))\n",
    "\n",
    "for i in range(n_gps):\n",
    "    rho_gps[i] = sqrt(Dxyz_gps[:,i].T@ Dxyz_gps[:,i])\n",
    "    \n",
    "if verbose:\n",
    "    print('rho_gps = ')\n",
    "    for i in range(n_gps):\n",
    "        print('\\t%15.3f'%(rho_gps[i]))"
   ]
  },
  {
   "cell_type": "markdown",
   "metadata": {},
   "source": [
    "Worked Example:\n",
    "\n",
    "    rho_gps = \n",
    "\t   22029808.437\n",
    "\t   32297991.246\n",
    "\t   26632980.307\n",
    "\t   31368481.636\n",
    "\t   23473536.066\n",
    "\t   27319394.914\n",
    "\t   28384648.476\n",
    "\t   32820016.328\n",
    "\t   25443631.719\n",
    "\t   31677496.673\n",
    "\t   24468060.085\n",
    "\t   30957534.122\n",
    "\t   21030480.890\n",
    "\t   23242886.935\n",
    "\t   26956764.691\n",
    "\t   22711821.520\n",
    "\t   25963205.489\n",
    "\t   27773576.485\n",
    "\t   26109028.445\n",
    "\t   20761932.309\n",
    "\t   28782340.617\n",
    "\t   29259214.603\n",
    "\t   21417245.943\n",
    "\t   29792061.846\n",
    "\t   31858399.878\n",
    "\t   30386020.401\n",
    "\t   30222067.095\n",
    "\t   22627283.783\n",
    "\t   27520944.858"
   ]
  },
  {
   "cell_type": "markdown",
   "metadata": {},
   "source": [
    "___\n",
    "### 4.3.1 Compute the True Receiver to GLONASS Satellite Ranges\n",
    "\n",
    "Calculate the true geometric range $\\rho$ to each GLONASS satellite and assign it to the nx1 vector `rho_gln` using the equations in 4.3 and the variable `Dxyz_gln`.\n"
   ]
  },
  {
   "cell_type": "code",
   "execution_count": 128,
   "metadata": {},
   "outputs": [
    {
     "name": "stdout",
     "output_type": "stream",
     "text": [
      "rho_gln = \n",
      "\t   22147233.813\n",
      "\t   24331658.583\n",
      "\t   27367755.074\n",
      "\t   29517974.101\n",
      "\t   29873755.005\n",
      "\t   25044841.530\n",
      "\t   22619278.530\n",
      "\t   24244510.137\n",
      "\t   24631893.450\n",
      "\t   28169774.366\n",
      "\t   30368165.865\n",
      "\t   30246154.141\n",
      "\t   27572488.146\n",
      "\t   31610864.544\n",
      "\t   30232968.101\n",
      "\t   26935188.499\n",
      "\t   21926703.808\n",
      "\t   19617969.462\n",
      "\t   21884194.440\n",
      "\t   30152836.396\n"
     ]
    }
   ],
   "source": [
    "## 4.3.1 Calculate the range from the receiver to each GPS satellite\n",
    "# First allocate memory by creating a n_gpsx1 2D array\n",
    "rho_gln=np.zeros((n_gln,1))\n",
    "\n",
    "for i in range(n_gln):\n",
    "    rho_gln[i] = sqrt(Dxyz_gln[:,i].T@ Dxyz_gln[:,i])\n",
    "    \n",
    "if verbose:\n",
    "    print('rho_gln = ')\n",
    "    for i in range(n_gln):\n",
    "        print('\\t%15.3f'%(rho_gln[i]))"
   ]
  },
  {
   "cell_type": "markdown",
   "metadata": {},
   "source": [
    "Worked Example:\n",
    "    \n",
    "    rho_gln = \n",
    "\t   20100955.949\n",
    "\t   23877044.077\n",
    "\t   28800575.152\n",
    "\t   31358272.302\n",
    "\t   28152288.095\n",
    "\t   19891955.088\n",
    "\t   25436818.489\n",
    "\t   25993347.675\n",
    "\t   27125922.146\n",
    "\t   26898119.795\n",
    "\t   26268003.743\n",
    "\t   25682075.018"
   ]
  },
  {
   "cell_type": "markdown",
   "metadata": {},
   "source": [
    "___\n",
    "# 4.4 Satellite Visibility and Sky Plot\n",
    "\n",
    "GNSS use carrier frequencies in the L band i.e., they are microwave signals and thus GNSS are line of sight systems. Assuming they are functioning correctly (and no extreme environmental events are occurring) this means that satellites are visible when they are above the horizon. \n",
    "\n",
    "Our ephemerides are given with respect to an ECEF reference frame with an ‘up’ axis aligned to the Earth’s rotation axis, therefore we cannot simply glean whether a satellite is visible from the ECEF coordinates. However, determining the visibility of a satellite is a simple geometric problem with the right choice of reference system, namely one aligned to the horizon plane at the location of the GNSS receiver. Such systems are known as topocentric systems and, just like geocentric systems, come in polar and Cartesian form.\n",
    "\n",
    "\n",
    "___\n",
    "### 4.4.0 The Geocentric to Topocentric Cartesian Coordinate Transformation Matrix\n",
    "\n",
    "<img align=\"left\" width=\"50%\" style=\"padding-right:30px;\" src=\"../Images/dndedu.png\">\n",
    "\n",
    "Determine the transformation required to transform from *ECEF* Cartesian coordinates into Cartesian topocentric coordinates. In these coordinates the horizon plane is tangent to the ellipsoid at the location $P$ of the receiver and is spanned by two orthogonal vectors $E$ and $N$ pointing to the local East (parallel) and North (meridian) respectively, the Up axis $U$ is orthogonal to both these axes and points in the direction of the surface normal at $P$. Azimuth $\\alpha$ is then defined as the clockwise angle in the horizon plane from the North axis to a direction of interest. Elevation $\\theta$ is the angle from the horizon plane to a direction of interest and is positive from the horizon upwards.\n",
    "<br><br><br><br><br><br><br>\n",
    "**In the Images directory (../Images) you will find a video named XYZ_to_NEU.mpg in which David Wells explains the coordinate transformation**"
   ]
  },
  {
   "cell_type": "markdown",
   "metadata": {},
   "source": [
    "Given:\n",
    "\n",
    "$x_{sat}, y_{sat}, z_{sat}$ = the Cartesian coordinates (in m) for a specific GNSS satellite, at the time of the virtual GNSS fix (from Step 3)\n",
    "\n",
    "$x_{rx}, y_{rx}, z_{rx}$ = the Cartesian coordinates (in m) for the receiver, at the time of the virtual GNSS fix (from Step 4.1.2)\n",
    "\n",
    "$\\Delta x, \\Delta y, \\Delta z$ = the coordinate differences between receiver and each satellite from Step 4.2. \n",
    "\n",
    "\n",
    "$\\Delta x, \\Delta y, \\Delta z$ now represent the positions of the satellite vehicles with respect to the receiver location. By using them as coordinates we translated the coordinates from the center of the Earth to the observer. \n",
    "\n",
    "We have not yet aligned our coordinate axes to the local horizon. For this we have to do a reflection and a set of rotations. A video of Dr. David Wells describing this process may be found in the in the Images directory (../Images) you will find a video named [XYZ_to_NEU](../Images/XYZ_to_NEU8-23-02.mpg) in which Dave explains the coordinate transformation\n",
    "\n",
    "Remember that reflection matrices around the 1, 2, and 3 axes are defined as:\n",
    "\n",
    "$$P_1 = \\begin{pmatrix}-1&0&0 \\\\ 0&1&0 \\\\ 0&0&1 \\end{pmatrix} \n",
    "\\space\\space P_2 = \\begin{pmatrix}1&0&0 \\\\ 0&-1&0 \\\\ 0&0&1 \\end{pmatrix}\n",
    "\\space\\space P_3 = \\begin{pmatrix}1&0&0 \\\\ 0&1&0 \\\\ 0&0&-1 \\end{pmatrix}$$\n",
    "<br>\n",
    "Also, for terrestrial reference frames rotation matrices around the 1, 2, and 3 axes are defined as:\n",
    "\n",
    "$$R_1 = \\begin{pmatrix}1&0&0 \\\\ \n",
    "0&cos\\theta&sin\\theta \\\\ \n",
    "0&-sin\\theta&cos\\theta \\end{pmatrix} \n",
    "\\space\\space\n",
    "R_2 = \\begin{pmatrix}cos\\theta&0&-sin\\theta \\\\\n",
    "0&1&0 \\\\\n",
    "sin\\theta&0&cos\\theta \\end{pmatrix}\n",
    "\\space\\space\n",
    "R_3 = \\begin{pmatrix}cos\\theta&sin\\theta&0 \\\\\n",
    "-sin\\theta&cos\\theta&0 \\\\\n",
    "0&0&1 \\end{pmatrix}$$\n",
    "\n",
    "Calculate the matrix $Q$ that transforms from geocentric to Topocentric Cartesian coordinates at your location (i.e. $Q$ rotates and reflects the coordinate axes to become aligned with the horizontal plane at the receiver, in a north-east-up orientation)\n",
    "\n",
    "$$Q=P_2 R_2(\\varphi-1/2\\pi)R_3(\\lambda-\\pi)$$\n",
    "\n",
    "\n",
    "Finally We may then calculate the baselines to the satellites in the topocentric coordinate system as:\n",
    "\n",
    "$$\\Delta_{NEU} = \\begin{pmatrix}\\Delta N \\\\ \\Delta E \\\\ \\Delta U \\end{pmatrix} = \n",
    "Q\\begin{pmatrix}\\Delta x \\\\ \\Delta y \\\\ \\Delta z \\end{pmatrix}$$\n",
    "\n"
   ]
  },
  {
   "cell_type": "markdown",
   "metadata": {},
   "source": [
    "___\n",
    "#### 4.4.0.0 Calculate Reflection Matrix $P_2$\n",
    "\n",
    "\n",
    "\n",
    "Determine a 3D reflection matrix `P2` for the 2-axis"
   ]
  },
  {
   "cell_type": "code",
   "execution_count": 129,
   "metadata": {},
   "outputs": [
    {
     "name": "stdout",
     "output_type": "stream",
     "text": [
      "P2:\n",
      "[[ 1.  0.  0.]\n",
      " [ 0. -1.  0.]\n",
      " [ 0.  0.  1.]]\n"
     ]
    }
   ],
   "source": [
    "## 4.4.0.0 Calculate Reflection Matrix P2\n",
    "P2 = np.eye(3)\n",
    "P2[1,1]= -1\n",
    "\n",
    "if verbose:\n",
    "    print('P2:')\n",
    "    print(P2)"
   ]
  },
  {
   "cell_type": "markdown",
   "metadata": {},
   "source": [
    "Worked Example:\n",
    "    \n",
    "    P2:\n",
    "    [[ 1.  0.  0.]\n",
    "     [ 0. -1.  0.]\n",
    "     [ 0.  0.  1.]]"
   ]
  },
  {
   "cell_type": "markdown",
   "metadata": {},
   "source": [
    "___\n",
    "#### 4.4.0.1 Calculate Rotation Matrix $R_2$\n",
    "\n",
    "Create a rotation matrix `R2` that rotates by angle $\\varphi-1/2\\pi$ around the $2$-axis"
   ]
  },
  {
   "cell_type": "code",
   "execution_count": 130,
   "metadata": {},
   "outputs": [
    {
     "name": "stdout",
     "output_type": "stream",
     "text": [
      "R2:\n",
      "[[-0.34748578  0.          0.93768525]\n",
      " [ 0.          1.          0.        ]\n",
      " [-0.93768525  0.         -0.34748578]]\n"
     ]
    }
   ],
   "source": [
    "## 4.4.0.1 Calculate rotation Matrix R2\n",
    "R2 = np.asarray([[cos(lat-pi/2), 0, -sin(lat-pi/2)],\\\n",
    "                 [0,1,0],\\\n",
    "                 [sin(lat-pi/2),0,cos(lat-pi/2)]])\n",
    "\n",
    "if verbose:\n",
    "    print('R2:')\n",
    "    print(R2)"
   ]
  },
  {
   "cell_type": "markdown",
   "metadata": {},
   "source": [
    "Worked Example:\n",
    "    \n",
    "    R2:\n",
    "    [[ 0.50377398  0.          0.86383551]\n",
    "     [ 0.          1.          0.        ]\n",
    "     [-0.86383551  0.          0.50377398]]"
   ]
  },
  {
   "cell_type": "markdown",
   "metadata": {},
   "source": [
    "___\n",
    "#### 4.4.0.2 Calculate Rotation Matrix $R_3$\n",
    "\n",
    "Create a rotation matrix `R3` that rotates by angle $\\lambda-\\pi$ around the $3$-axis"
   ]
  },
  {
   "cell_type": "code",
   "execution_count": 131,
   "metadata": {},
   "outputs": [
    {
     "name": "stdout",
     "output_type": "stream",
     "text": [
      "R3:\n",
      "[[-0.76210047  0.64745878  0.        ]\n",
      " [-0.64745878 -0.76210047  0.        ]\n",
      " [ 0.          0.          1.        ]]\n"
     ]
    }
   ],
   "source": [
    "#### 4.4.0.2 Calculate Reflection Matrix R3\n",
    "R3 = np.asarray([[cos(lon-pi),sin(lon-pi),0],\\\n",
    "                 [-sin(lon-pi),cos(lon-pi),0],\\\n",
    "                 [0,0,1]])\n",
    "\n",
    "if verbose:\n",
    "    print('R3:')\n",
    "    print(R3)"
   ]
  },
  {
   "cell_type": "markdown",
   "metadata": {},
   "source": [
    "Worked Example:\n",
    "    \n",
    "    R3:\n",
    "    [[-0.0066322   0.99997801  0.        ]\n",
    "     [-0.99997801 -0.0066322   0.        ]\n",
    "     [ 0.          0.          1.        ]]"
   ]
  },
  {
   "cell_type": "markdown",
   "metadata": {},
   "source": [
    "___\n",
    "#### 4.4.0.3 Calculate Transformation Matrix $Q$\n",
    "\n",
    "Create a rotation matrix `Q` that rotates by angle $\\lambda-\\pi$ around the $3$-axis, then rotates by angle $\\varphi-1/2\\pi$ around the $2$-axis, and finally reflects in the $2$-axis, making use of the results of steps `4.4.0.0`, `4.4.0.1`, and `4.4.0.2`."
   ]
  },
  {
   "cell_type": "code",
   "execution_count": 132,
   "metadata": {},
   "outputs": [
    {
     "name": "stdout",
     "output_type": "stream",
     "text": [
      "Q:\n",
      "[[ 0.26481908 -0.22498272  0.93768525]\n",
      " [ 0.64745878  0.76210047  0.        ]\n",
      " [ 0.71461037 -0.60711255 -0.34748578]]\n"
     ]
    }
   ],
   "source": [
    "#### 4.4.0.3 Calculate Reflection Matrix Q\n",
    "\n",
    "Q = P2 @ R2 @ R3\n",
    "\n",
    "if verbose:\n",
    "    print('Q:')\n",
    "    print(Q)"
   ]
  },
  {
   "cell_type": "markdown",
   "metadata": {},
   "source": [
    "Worked Example:\n",
    "    \n",
    "    Q:\n",
    "    [[-0.00334113  0.5037629   0.86383551]\n",
    "     [ 0.99997801  0.0066322   0.        ]\n",
    "     [ 0.00572913 -0.86381651  0.50377398]]"
   ]
  },
  {
   "cell_type": "markdown",
   "metadata": {},
   "source": [
    "___\n",
    "#### 4.4.0.4 Calculate Cartesian Topocentric Coordinates for the GPS satellites\n",
    "\n",
    "Use the matrix `Q` to transform all the receiver-satellite baselines contained in `Dxyz_gps` to topocentric Cartesian (North, East and Up) coordinates contained in `n_gps` x 3 matrix `NEU_gps`."
   ]
  },
  {
   "cell_type": "code",
   "execution_count": 133,
   "metadata": {},
   "outputs": [
    {
     "name": "stdout",
     "output_type": "stream",
     "text": [
      "NEU_gps = \n",
      "\t  -18502773.765    18050919.480      815571.365\n",
      "\t   24697312.776    -3073105.686     4138665.484\n",
      "\t   -1488413.739    26127522.983   -11222524.863\n",
      "\t   14833673.087    16459988.112   -20984435.609\n",
      "\t   20352155.798   -14949248.936     1291399.902\n",
      "\t   16911156.764    10862931.413    11041447.194\n",
      "\t   13228167.303    21152272.393     3703519.371\n",
      "\t  -18329571.165    15663568.486   -17228882.256\n",
      "\t   22288491.529    14191787.545    -8327286.789\n",
      "\t  -23349302.651   -11937203.319   -10504813.162\n",
      "\t  -22852494.028    14221713.160    -8000699.793\n",
      "\t     304164.575   -24930367.543     3090869.665\n",
      "\t    2167963.387    -9337343.393    18362986.226\n",
      "\t  -14789958.693    14228857.050    10505557.503\n",
      "\t   -8460293.782   -17982467.372    11306121.771\n",
      "\t   10230146.244    12887207.861   -26824324.081\n",
      "\t   -6341598.803     4313918.946    18791029.144\n",
      "\t     648160.922   -20515850.558   -23276797.930\n",
      "\t    -129453.936      829880.606    20226961.932\n",
      "\t  -14603108.732   -22155904.257    -9488862.033\n",
      "\t  -22309468.780    13319917.348    -5740097.111\n",
      "\t  -10295714.201    23971955.539   -11502528.409\n",
      "\t  -16169446.289   -21084749.406    -7555295.973\n",
      "\t  -18212946.745   -16449691.252     4404264.151\n",
      "\t    7847464.170   -25071449.440   -10613480.821\n",
      "\t   14470753.798      977109.446   -28554890.397\n",
      "\t  -10823605.303     9999816.850   -28262810.498\n",
      "\t  -15530011.668    10620473.034    11693185.014\n",
      "\t   19599414.881   -14331217.103   -17041924.763\n",
      "\t    5368124.908    17186782.897    13306637.441\n",
      "\t    3209658.761    -9372289.062   -31217975.462\n",
      "\t  -21329798.349    -3461321.847   -21638631.101\n"
     ]
    }
   ],
   "source": [
    "## 4.4.0.4 Calculate Topocentric Cartesian (North East Up) coordinates for GPS satellites \n",
    "# Allocate memory by using the shape of Dxyz_gps (Dxyz_gps.shape)\n",
    "NEU_gps = np.zeros((Dxyz_gps.shape))\n",
    "\n",
    "# Cycle through all GPS satellites\n",
    "for i in range(n_gps):\n",
    "    NEU_gps[:,i:i+1] = Q@Dxyz_gps[:,i:i+1]\n",
    "    \n",
    "if verbose:\n",
    "    print('NEU_gps = ')\n",
    "    for i in range(n_gps):\n",
    "        print('\\t%15.3f %15.3f %15.3f'%(NEU_gps[0,i],NEU_gps[1,i],NEU_gps[2,i]))"
   ]
  },
  {
   "cell_type": "markdown",
   "metadata": {},
   "source": [
    "Worked Example:\n",
    "\n",
    "    NEU_gps = \n",
    "\t    7031506.685   -14871247.959    14653202.983\n",
    "\t    3667734.434    13719949.232   -29008118.790\n",
    "\t  -16307542.231   -20876659.394    -2746779.739\n",
    "\t   17344642.791     4483036.650   -25749706.581\n",
    "\t    9423063.994    19850969.415     8255408.752\n",
    "\t  -17869742.850    19516472.581    -6791827.950\n",
    "\t   26727712.756     1199807.137    -9480406.258\n",
    "\t    1311658.167    -1501000.597   -32759426.458\n",
    "\t   19237667.111    16651950.188       55804.455\n",
    "\t  -13857333.506    10777118.969   -26368386.571\n",
    "\t   15419363.533   -18240009.877     5313307.091\n",
    "\t  -11328546.796   -17453903.168   -22921479.242\n",
    "\t   11200798.081    -1949564.016    17692440.447\n",
    "\t  -21274139.917     1096442.730     9297342.480\n",
    "\t  -25284498.476    -7737804.563    -5242869.441\n",
    "\t   -9151893.686    17633628.239    11005672.802\n",
    "\t   -4886876.604   -25488122.867     -749712.628\n",
    "\t   16527242.004   -20639670.148    -8498578.630\n",
    "\t  -24313110.083     9297468.906    -2027588.801\n",
    "\t    -543623.900     9144758.203    18631578.131\n",
    "\t   -6916785.050   -25028692.267   -12415545.875\n",
    "\t   24514157.355    -6645937.604   -14525468.726\n",
    "\t  -10468403.022    -9485173.574    16097901.858\n",
    "\t     252774.589    25201756.013   -15886300.635\n",
    "\t   -8587842.237    -8093357.109   -29592299.323\n",
    "\t   19894291.073   -10302532.628   -20527670.105\n",
    "\t   -2623186.693    22992869.645   -19437596.985\n",
    "\t   -4089339.313    19061531.551    11486047.636\n",
    "\t   24695058.339    -8955163.844    -8207407.635\n"
   ]
  },
  {
   "cell_type": "markdown",
   "metadata": {},
   "source": [
    "___\n",
    "#### 4.4.0.5 Calculate Cartesian Topocentric Coordinates for the GLONASS satellites\n",
    "\n",
    "Use the matrix `Q` to transform all the receiver-satellite baselines contained in `Dxyz_gln` to topocentric Cartesian (North, East and Up) coordinates contained in `n_gln` x 3 matrix `NEU_gps`."
   ]
  },
  {
   "cell_type": "code",
   "execution_count": 134,
   "metadata": {},
   "outputs": [
    {
     "name": "stdout",
     "output_type": "stream",
     "text": [
      "NEU_gln = \n",
      "\t    1942313.425   -19981226.913     9352965.047\n",
      "\t  -19135503.811   -14963072.101     1403059.722\n",
      "\t  -25028248.368    -1239520.999   -11002017.500\n",
      "\t  -16695453.279    13118702.707   -20505420.604\n",
      "\t     977123.400    19966721.306   -22199470.900\n",
      "\t   25004132.866      648357.654    -1271636.443\n",
      "\t   16741681.966   -13056643.817     7802044.502\n",
      "\t    1771149.573    24106777.327     1876855.847\n",
      "\t  -14053850.836   -20227381.541      269235.266\n",
      "\t   -2143412.741   -24129008.617   -14378209.652\n",
      "\t   11557958.707   -13738893.752   -24492486.338\n",
      "\t   18048356.584     4361020.444   -23876100.302\n",
      "\t   13670172.667    20675003.663   -12079433.155\n",
      "\t   -2910932.897    -8088870.459   -30419457.615\n",
      "\t  -18472975.375     -234600.065   -23931704.992\n",
      "\t  -24335996.405     7198747.103    -9024505.449\n",
      "\t  -15331351.273    11933797.616    10164373.198\n",
      "\t    4060693.102     7694576.753    17583201.812\n",
      "\t   19257031.174     -207583.912    10394307.363\n",
      "\t   14568327.523   -12215000.287   -23404083.914\n"
     ]
    }
   ],
   "source": [
    "## 4.4.0.5 Calculate Topocentric Cartesian (North East Up) coordinates for \n",
    "# GLONASS satellites\n",
    "# Allocate memory by using the shape of Dxyz_gps (Dxyz_gps.shape)\n",
    "NEU_gln = np.zeros((Dxyz_gln.shape))\n",
    "\n",
    "# Cycle through all GLONASS satellites\n",
    "for i in range(n_gln):\n",
    "    NEU_gln[:,i:i+1] = Q@Dxyz_gln[:,i:i+1]\n",
    "    \n",
    "if verbose:\n",
    "    print('NEU_gln = ')\n",
    "    for i in range(n_gln):\n",
    "        print('\\t%15.3f %15.3f %15.3f'%(NEU_gln[0,i],NEU_gln[1,i],NEU_gln[2,i]))"
   ]
  },
  {
   "cell_type": "markdown",
   "metadata": {},
   "source": [
    "Worked Example:\n",
    "\n",
    "    NEU_gln = \n",
    "\t   11780440.512    -2501645.402    16093831.791\n",
    "\t   19164583.735   -13965779.771     2790870.742\n",
    "\t   15685093.240   -17235638.118   -16922876.759\n",
    "\t    2939758.022   -11236236.761   -29128097.225\n",
    "\t  -19418108.933    14817587.679   -13997409.253\n",
    "\t   -2440044.643    10424915.460    16764760.571\n",
    "\t   14520355.756   -20689936.951    -2849124.869\n",
    "\t   25313191.669     3525985.343    -4739607.389\n",
    "\t  -14716852.272    20494273.504    -9960655.851\n",
    "\t  -24970362.209     4418417.047    -8970365.124\n",
    "\t  -20517753.628   -15115523.321    -6367947.975\n",
    "\t   -4421479.787   -24998621.268    -3884382.628"
   ]
  },
  {
   "cell_type": "markdown",
   "metadata": {},
   "source": [
    "___\n",
    "### 4.5.0 Transformation of Topocentric Cartesian to Topocentric Polar Coordinates\n",
    "\n",
    "<img align=\"left\" width=\"50%\" style=\"padding-right:30px;\" src=\"../Images/polar.PNG\">\n",
    "\n",
    "Transform Cartesian topocentric coordinates into Topocentric polar coordinates (distance, azimuth, elevation).\n",
    "<br>\n",
    "Using the transformation from spherical to Cartesian coordinates:\n",
    "\n",
    "$$\\Delta_{NEU} = \\begin{pmatrix}\\Delta N \\\\ \\Delta E \\\\ \\Delta U \\end{pmatrix} = \n",
    "\\begin{pmatrix}\\rho\\cos\\theta\\cos\\alpha \\\\ \\rho\\cos\\theta\\sin\\alpha \\\\ \\rho\\sin\\theta \\end{pmatrix}$$\n",
    "<br><br>\n",
    "To obtain the azimuth $\\alpha$ divide $\\Delta E$ by $\\Delta N$ (Note the difference with regular right handed Cartesian angles).\n",
    "<br><br>\n",
    "$$ \\dfrac{\\Delta E}{\\Delta N}=\\dfrac{\\rho\\cos\\theta\\sin\\alpha}{\\rho\\cos\\theta\\cos\\alpha}=\\tan\\alpha\\Rightarrow$$\n",
    "\n",
    "$$\\alpha = \\arctan\\left(\\dfrac{\\Delta E}{\\Delta N}\\right)$$\n",
    "<br><br>\n",
    "To obtain elevation $\\theta$, calculate the projection of the satellite-to-receiver range onto the horizontal plane, that is:\n",
    "\n",
    "$$p=\\sqrt{(\\Delta N)^2+(\\Delta E)^2} = \\rho\\cos\\theta$$\n",
    "<br><br>\n",
    "Then divide $\\Delta U$ by the horizontal range $p$\n",
    "\n",
    "$$\\dfrac{\\Delta U}{p}=\\dfrac{\\rho\\sin\\theta}{\\rho\\cos\\theta}=\\tan\\theta\\Rightarrow$$\n",
    "\n",
    "$$\\theta = \\arctan\\left(\\dfrac{\\Delta U}{p}\\right)$$\n",
    "\n",
    "Both the solutions for azimuth $\\alpha$ and elevation $\\theta$ involve the use of the arctangent function, $\\arctan$.  But this is misleading, since the range of azimuth values $\\alpha$ is $[0°,360°\\rangle$ or, equivalently, $[-180°,180°\\rangle$, and the range of elevation values $\\theta$ is $[-90°,90°]$.  To accommodate this, two different arctangent functions are provided by the `numpy` module:  a two-quadrant function (in this case for elevations $\\theta$) `arctan()` that has a single argument and, a four-quadrant function `arctan2()` (in this case for azimuths $\\theta$) that has two arguments.  \n",
    "\n",
    "In this step we will create the n_gps x 4 matrix `p_az_elev_gps`, which will hold the PRN in the first column, the horizontal range $p$ in the 2nd column, the azimuth $\\alpha$ in 3d column and, finally the elevation of the GPS satellites in the 4th column. This matrix then represents the identity of the satellites and their locations in a polar topocentric coordinate system."
   ]
  },
  {
   "cell_type": "code",
   "execution_count": 135,
   "metadata": {},
   "outputs": [
    {
     "name": "stdout",
     "output_type": "stream",
     "text": [
      "p_az_elev_gps = \n",
      "\t  1    25849339.084           2.369           0.032\n",
      "\t  2    24887772.839          -0.124           0.165\n",
      "\t  3    26169884.078           1.628          -0.405\n",
      "\t  4    22157821.777           0.837          -0.758\n",
      "\t  5    25252530.356          -0.634           0.051\n",
      "\t  6    20099514.969           0.571           0.502\n",
      "\t  7    24948006.686           1.012           0.147\n",
      "\t  8    24110590.139           2.434          -0.620\n",
      "\t  9    26423165.752           0.567          -0.305\n",
      "\t 10    26223782.286          -2.669          -0.381\n",
      "\t 11    26916418.939           2.585          -0.289\n",
      "\t 12    24932222.964          -1.559           0.123\n",
      "\t 13     9585720.989          -1.343           1.090\n",
      "\t 14    20523236.857           2.376           0.473\n",
      "\t 15    19873240.895          -2.011           0.517\n",
      "\t 16    16454057.816           0.900          -1.021\n",
      "\t 17     7669796.089           2.544           1.183\n",
      "\t 18    20526086.736          -1.539          -0.848\n",
      "\t 19      839916.747           1.726           1.529\n",
      "\t 20    26535539.905          -2.154          -0.343\n",
      "\t 21    25983313.788           2.603          -0.217\n",
      "\t 22    26089392.160           1.976          -0.415\n",
      "\t 23    26570992.658          -2.225          -0.277\n",
      "\t 24    24541877.911          -2.407           0.178\n",
      "\t 25    26270901.601          -1.267          -0.384\n",
      "\t 26    14503704.987           0.067          -1.101\n",
      "\t 27    14735900.678           2.396          -1.090\n",
      "\t 28    18814242.208           2.542           0.556\n",
      "\t 29    24280050.398          -0.631          -0.612\n",
      "\t 30    18005617.772           1.268           0.636\n",
      "\t 31     9906649.869          -1.241          -1.264\n",
      "\t 32    21608818.722          -2.981          -0.786\n"
     ]
    }
   ],
   "source": [
    "## 4.5.0 Determination of the Azimuth from the Receiver to the GPS satellites\n",
    "# Allocate memory \n",
    "p_az_elev_gps = np.zeros((n_gps,4))\n",
    "\n",
    "# Cycle through all GPS satellites\n",
    "for i in range(n_gps):\n",
    "    p_az_elev_gps[i,0] = eph_gps[i,0]\n",
    "    p_az_elev_gps[i,1] = sqrt(NEU_gps[1,i]**2+NEU_gps[0,i]**2)\n",
    "    p_az_elev_gps[i,2] = arctan2(NEU_gps[1,i],NEU_gps[0,i])\n",
    "    p_az_elev_gps[i,3] = arctan(NEU_gps[2,i]/sqrt(NEU_gps[1,i]**2+NEU_gps[0,i]**2))\n",
    "    \n",
    "if verbose:\n",
    "    print('p_az_elev_gps = ')\n",
    "    for i in range(n_gps):\n",
    "        print('\\t%3d %15.3f %15.3f %15.3f'%(p_az_elev_gps[i,0],p_az_elev_gps[i,1],p_az_elev_gps[i,2],p_az_elev_gps[i,3]))"
   ]
  },
  {
   "cell_type": "markdown",
   "metadata": {},
   "source": [
    "Worked Example:\n",
    "\n",
    "    p_az_elev_gps = \n",
    "\t  1    16449805.534          -1.129           0.728\n",
    "\t  2    14201735.204           1.310          -1.116\n",
    "\t  3    26490957.723          -2.234          -0.103\n",
    "\t  4    17914637.902           0.253          -0.963\n",
    "\t  5    21973964.635           1.128           0.359\n",
    "\t  6    26461678.170           2.312          -0.251\n",
    "\t  7    26754628.876           0.045          -0.341\n",
    "\t  8     1993351.435          -0.853          -1.510\n",
    "\t  9    25443570.522           0.713           0.002\n",
    "\t 10    17554827.973           2.481          -0.983\n",
    "\t 11    23884194.189          -0.869           0.219\n",
    "\t 13    20808044.317          -2.147          -0.834\n",
    "\t 14    11369198.631          -0.172           1.000\n",
    "\t 15    21302375.827           3.090           0.412\n",
    "\t 16    26442002.243          -2.845          -0.196\n",
    "\t 18    19867108.570           2.050           0.506\n",
    "\t 19    25952378.894          -1.760          -0.029\n",
    "\t 20    26441363.657          -0.896          -0.311\n",
    "\t 21    26030179.599           2.776          -0.078\n",
    "\t 22     9160902.223           1.630           1.114\n",
    "\t 23    25966851.023          -1.840          -0.446\n",
    "\t 24    25399062.925          -0.265          -0.519\n",
    "\t 25    14126428.408          -2.405           0.851\n",
    "\t 26    25203023.651           1.561          -0.562\n",
    "\t 27    11800570.477          -2.386          -1.191\n",
    "\t 28    22403682.641          -0.478          -0.742\n",
    "\t 29    23142021.583           1.684          -0.699\n",
    "\t 30    19495247.654           1.782           0.532\n",
    "\t 31    26268628.929          -0.348          -0.303"
   ]
  },
  {
   "cell_type": "markdown",
   "metadata": {},
   "source": [
    "___\n",
    "### 4.5.1 Transformation of Topocentric Cartesian to Topocentric Polar Coordinates\n",
    "\n",
    "We will now do the same thing for the GLONASS satellites. Create the n_gln x 4 matrix `p_az_elev_gln`, which will hold the PRN in the first column, the horizontal range $p$ in the 2nd column, the azimuth $\\alpha$ in 3d column and, finally the elevation $\\theta$ of the GPS satellites in the 4th column. "
   ]
  },
  {
   "cell_type": "code",
   "execution_count": 136,
   "metadata": {},
   "outputs": [
    {
     "name": "stdout",
     "output_type": "stream",
     "text": [
      "p_az_elev_gln = \n",
      "\t  1    20075408.100          -1.474           0.436\n",
      "\t  2    24291171.911          -2.478           0.058\n",
      "\t  3    25058923.135          -3.092          -0.414\n",
      "\t  4    21232958.364           2.476          -0.768\n",
      "\t  5    19990616.044           1.522          -0.838\n",
      "\t  7    25012537.417           0.026          -0.051\n",
      "\t  8    21231106.020          -0.662           0.352\n",
      "\t  9    24171753.844           1.497           0.077\n",
      "\t 12    24630421.988          -2.178           0.011\n",
      "\t 13    24224022.685          -1.659          -0.536\n",
      "\t 14    17953930.238          -0.871          -0.938\n",
      "\t 15    18567759.012           0.237          -0.910\n",
      "\t 16    24785669.191           0.987          -0.453\n",
      "\t 17     8596706.092          -1.916          -1.295\n",
      "\t 18    18474464.982          -3.129          -0.913\n",
      "\t 19    25378390.037           2.854          -0.342\n",
      "\t 20    19428480.573           2.480           0.482\n",
      "\t 21     8700329.872           1.085           1.111\n",
      "\t 22    19258149.982          -0.011           0.495\n",
      "\t 24    19011638.510          -0.698          -0.889\n"
     ]
    }
   ],
   "source": [
    "## 4.5.1 Determination of the Azimuth from the Receiver to the GLONASS satellites\n",
    "# Allocate memory \n",
    "p_az_elev_gln = np.zeros((n_gln,4))\n",
    "\n",
    "# Cycle through all GLONASS satellites\n",
    "for i in range(n_gln):\n",
    "    p_az_elev_gln[i,0] = eph_gln[i,0]\n",
    "    p_az_elev_gln[i,1] = sqrt(NEU_gln[1,i]**2+NEU_gln[0,i]**2)\n",
    "    p_az_elev_gln[i,2] = arctan2(NEU_gln[1,i],NEU_gln[0,i])\n",
    "    p_az_elev_gln[i,3] = arctan(NEU_gln[2,i]/sqrt(NEU_gln[1,i]**2+NEU_gln[0,i]**2))\n",
    "    \n",
    "if verbose:\n",
    "    print('p_az_elev_gln = ')\n",
    "    for i in range(n_gln):\n",
    "        print('\\t%3d %15.3f %15.3f %15.3f'%(p_az_elev_gln[i,0],p_az_elev_gln[i,1],p_az_elev_gln[i,2],p_az_elev_gln[i,3]))"
   ]
  },
  {
   "cell_type": "markdown",
   "metadata": {},
   "source": [
    "Worked Example:\n",
    "\n",
    "    rho_az_elev_gln = \n",
    "\t  1    12043131.170          -0.209           0.928\n",
    "\t  2    23713377.540          -0.630           0.117\n",
    "\t  3    23304277.962          -0.832          -0.628\n",
    "\t  4    11614439.021          -1.315          -1.191\n",
    "\t  6    24425885.023           2.490          -0.520\n",
    "\t  8    10706665.224           1.801           1.002\n",
    "\t 17    25276752.607          -0.959          -0.112\n",
    "\t 18    25557586.841           0.138          -0.183\n",
    "\t 21    25230952.960           2.194          -0.376\n",
    "\t 22    25358260.943           2.966          -0.340\n",
    "\t 23    25484451.323          -2.507          -0.245\n",
    "\t 24    25386621.454          -1.746          -0.152"
   ]
  },
  {
   "cell_type": "markdown",
   "metadata": {},
   "source": [
    "___\n",
    "## 4.6 Determine which Satellites are Visible\n",
    "\n",
    "Determine which satellites visible from the virtual GNSS fix location and epoch.\n",
    "\n",
    "At the time and place of the virtual GNSS fix, those satellites which have a positive elevation angle $\\theta$ are above the horizon, and those which have negative elevation angle are below the horizon.\n",
    "\n",
    "Note:  $\\Delta U$is also positive for visible satellites (they have a positive vertical or “up” coordinate), and ΔU is negative for satellites which are below the horizon.\n",
    "Select only visible satellites for computing the fix - that is create subsets of the matrices based on the Boolean condition of visibility being `True`\n",
    "\n",
    "In Python we may use a Boolean vector of the same length as a dimension to select slices along that dimension. For example the Boolean vector idx = [True,False,True,False] may be used to select the 2nd and 4th row of matrix A as follows:\n"
   ]
  },
  {
   "cell_type": "code",
   "execution_count": 137,
   "metadata": {},
   "outputs": [
    {
     "name": "stdout",
     "output_type": "stream",
     "text": [
      "Entire matrix A:\n",
      "[[1. 0. 0. 0.]\n",
      " [0. 1. 0. 0.]\n",
      " [0. 0. 1. 0.]\n",
      " [0. 0. 0. 1.]]\n",
      "Subset of matrix A:\n",
      "[[1. 0. 0. 0.]\n",
      " [0. 0. 1. 0.]]\n"
     ]
    }
   ],
   "source": [
    "# Example showing the logic of indexing using Boolean vectors\n",
    "idx = np.array([True,False,True,False])\n",
    "A = np.eye(4)\n",
    "print('Entire matrix A:')\n",
    "print(A)\n",
    "print('Subset of matrix A:')\n",
    "print(A[idx,:])"
   ]
  },
  {
   "cell_type": "markdown",
   "metadata": {},
   "source": [
    "___\n",
    "## 4.6.0 Determine which GPS Satellites are Visible\n",
    "\n",
    "Create the Boolean array `visible_gps` in which each element represents the visibility of the corresponding satellite in the array `rho_az_elev_gps`. Also show just the data for the visible satellites in the matrix `rho_az_elev_gps"
   ]
  },
  {
   "cell_type": "code",
   "execution_count": 138,
   "metadata": {},
   "outputs": [
    {
     "name": "stdout",
     "output_type": "stream",
     "text": [
      "GPS       PRN           Range         Azimuth       Elevation \n",
      "______________________________________________________________ \n",
      "\t    1    25849339.084         135.708           1.807\n",
      "\t    2    24887772.839          -7.093           9.441\n",
      "\t    5    25252530.356         -36.298           2.928\n",
      "\t    6    20099514.969          32.715          28.782\n",
      "\t    7    24948006.686          57.979           8.444\n",
      "\t   12    24932222.964         -89.301           7.067\n",
      "\t   13     9585720.989         -76.929          62.435\n",
      "\t   14    20523236.857         136.108          27.107\n",
      "\t   15    19873240.895        -115.196          29.636\n",
      "\t   17     7669796.089         145.774          67.797\n",
      "\t   19      839916.747          98.866          87.622\n",
      "\t   24    24541877.911        -137.912          10.174\n",
      "\t   28    18814242.208         145.633          31.861\n",
      "\t   30    18005617.772          72.654          36.465\n",
      "\n",
      "\n",
      "\n"
     ]
    }
   ],
   "source": [
    "## 4.6.0 Determine which GPS Satellites are Visible\n",
    "\n",
    "visible_gps = p_az_elev_gps[:,3] > 0\n",
    "\n",
    "\n",
    "print('GPS       PRN           Range         Azimuth       Elevation ')\n",
    "print('______________________________________________________________ ')\n",
    "for prn in p_az_elev_gps[visible_gps,:]:\n",
    "    print('\\t%5d %15.3f %15.3f %15.3f'%(prn[0],prn[1],prn[2]*180/pi,prn[3]*180/pi))\n",
    "print('')\n",
    "print('')\n",
    "print('')"
   ]
  },
  {
   "cell_type": "markdown",
   "metadata": {},
   "source": [
    "Worked Example:\n",
    "\n",
    "    GPS       PRN           Range         Azimuth       Elevation \n",
    "    ______________________________________________________________ \n",
    "                1    16449805.534         -64.694          41.694\n",
    "                5    21973964.635          64.607          20.591\n",
    "                9    25443570.522          40.879           0.126\n",
    "               11    23884194.189         -49.790          12.542\n",
    "               14    11369198.631          -9.874          57.275\n",
    "               15    21302375.827         177.050          23.579\n",
    "               18    19867108.570         117.429          28.985\n",
    "               22     9160902.223          93.402          63.817\n",
    "               25    14126428.408        -137.821          48.732\n",
    "               30    19495247.654         102.108          30.505\n",
    "\n",
    "\n",
    "\n"
   ]
  },
  {
   "cell_type": "markdown",
   "metadata": {},
   "source": [
    "___\n",
    "## 4.6.1 Determine which GLONASS Satellites are Visible\n",
    "\n",
    "Create the Boolean array `visible_gln` in which each element represents the visibility of the corresponding satellite in the array `p_az_elev_gln`. Also show just the data for the visible satellites in the matrix `p_az_elev_gln"
   ]
  },
  {
   "cell_type": "code",
   "execution_count": 139,
   "metadata": {},
   "outputs": [
    {
     "name": "stdout",
     "output_type": "stream",
     "text": [
      "GLONASS   PRN           Range         Azimuth       Elevation \n",
      "______________________________________________________________ \n",
      "\t    1    20075408.100         -84.448          24.980\n",
      "\t    2    24291171.911        -141.976           3.306\n",
      "\t    8    21231106.020         -37.950          20.177\n",
      "\t    9    24171753.844          85.798           4.440\n",
      "\t   12    24630421.988        -124.791           0.626\n",
      "\t   20    19428480.573         142.103          27.617\n",
      "\t   21     8700329.872          62.178          63.673\n",
      "\t   22    19258149.982          -0.618          28.357\n"
     ]
    }
   ],
   "source": [
    "## 4.6.1 Determine which GLONASS Satellites are Visible\n",
    "\n",
    "visible_gln = p_az_elev_gln[:,3] > 0\n",
    "\n",
    "print('GLONASS   PRN           Range         Azimuth       Elevation ')\n",
    "print('______________________________________________________________ ')\n",
    "for prn in p_az_elev_gln[visible_gln,:]:\n",
    "    print('\\t%5d %15.3f %15.3f %15.3f'%(prn[0],prn[1],prn[2]*180/pi,prn[3]*180/pi))"
   ]
  },
  {
   "cell_type": "markdown",
   "metadata": {},
   "source": [
    "Worked Example:\n",
    "\n",
    "    GLONASS   PRN           Range         Azimuth       Elevation \n",
    "    ______________________________________________________________ \n",
    "\t            1    12043131.170         -11.989          53.192\n",
    "\t            2    23713377.540         -36.082           6.712\n",
    "\t            8    10706665.224         103.173          57.436\n"
   ]
  },
  {
   "cell_type": "markdown",
   "metadata": {},
   "source": [
    "___\n",
    "## 4.7 Sky Plot\n",
    "\n",
    "create a sky plot with all visible satellites. GPS satellites are indicated by red PRNs, while GLONASS satellites are marked by blue PRNs. In this case the distance from the origin represents the zenith angle, which is the 1/2 pi complement to the elevation."
   ]
  },
  {
   "cell_type": "markdown",
   "metadata": {},
   "source": [
    "___\n",
    "## 4.7.0 Create Sky Plot lay out\n",
    "\n",
    "In this step you will create a circle of radius $1/2 \\pi$ representing the horizon, and a black dot to represent zenith at the center.\n",
    " \n",
    "Remember that for a circle:\n",
    "\n",
    "$$r^2=x^2+y^2$$\n",
    "\n",
    "Or, equivalently, in parametric form:\n",
    "\n",
    "$$ x=r\\cos⁡\\alpha\\space\\space\\space\\space y=r\\sin⁡\\alpha$$\n",
    "\n",
    "where $\\alpha$ is the parameter and $\\alpha\\in[0,2\\pi\\rangle$\n",
    "\n",
    "Calculate the `x` and `y` coordinates using the parametric equation for a circle, increasing the parameter from $0$ to $2\\pi$ by increments of $0.01\\pi$.\n",
    "\n",
    "Note that the parametric form of equations is often convenient for plotting when there can be more than 1 outcome for an input value – in the case of the horizon circle here there are 2 $y$ values associated with all $x\\in\\langle -1/2\\pi,1/2\\pi\\rangle$\n",
    "\n",
    "The default settings for `matplotlib` make that the `plot` function tries to make optimal use of the available plot space by scaling the axes. Make sure that the circle will appear as a circle and not an oval, due to the unequal scaling (see help for the axis command).\n",
    " \n",
    "For our purpose we do not want to see the Cartesian axes, as they would complicate the interpretation of the figure (see help for the axis command)\n",
    "\n",
    "Now go ahead and plot the horizon circle as a solid black line of width 2 (see the help page for the plot command)\n",
    "\n",
    "Deliverables:<br>\n",
    "\n",
    " `t` vector of parameter t starting at 0 and increasing by $0.01$\\pi steps to $2\\pi$<br>\n",
    " `x` vector of x-coordinates for the plot of the horizon $-1/2\\pi\\leq x\\leq 1/2\\pi$<br>\n",
    " `y` vector of y-coordinates for the plot of the horizon $-1/2\\pi\\leq y\\leq 1/2\\pi$<br>"
   ]
  },
  {
   "cell_type": "code",
   "execution_count": 140,
   "metadata": {},
   "outputs": [
    {
     "data": {
      "text/plain": [
       "[<matplotlib.lines.Line2D at 0x16a071e3c10>]"
      ]
     },
     "execution_count": 140,
     "metadata": {},
     "output_type": "execute_result"
    },
    {
     "data": {
      "image/png": "[encoded data removed]",
      "text/plain": [
       "<Figure size 1000x1000 with 1 Axes>"
      ]
     },
     "metadata": {},
     "output_type": "display_data"
    }
   ],
   "source": [
    "## 4.7.0 Create the arrays t, x, and z; x and z being the locus of points forrming a circle with radius 1/2*pi\n",
    "t = np.arange(0,2*np.pi,0.01*np.pi)\n",
    "x = 1/2*pi*cos(t)\n",
    "y = 1/2*pi*sin(t)\n",
    "\n",
    "# 4.7.0 Plot the Circle \n",
    "plt.figure(figsize=(10, 10))\n",
    "plt.plot(x,y,'k',linewidth=2)\n",
    "plt.axis('equal')\n",
    "plt.axis('off')\n",
    "plt.plot(0,0,'.k',linewidth=3)"
   ]
  },
  {
   "cell_type": "markdown",
   "metadata": {},
   "source": [
    "___\n",
    "### 4.7.1 Add the sky plot titles\n",
    " \n",
    "Set the title of the plot to *Sky Plot*, with font size 24, on the second line the epoch as a date string with font size 14, the latitude and the longitude in DMS, For the implementation of this step please consult the help page for the 'title' command. I have started this for you, but commented out a few of the lines that you will need to complete\n"
   ]
  },
  {
   "cell_type": "code",
   "execution_count": 141,
   "metadata": {},
   "outputs": [
    {
     "data": {
      "image/png": "[encoded data removed]",
      "text/plain": [
       "<Figure size 640x480 with 1 Axes>"
      ]
     },
     "metadata": {},
     "output_type": "display_data"
    }
   ],
   "source": [
    "## 4.7.0 Create the arrays t, x, and z\n",
    "\n",
    "# Copy the code from 4.7.0 here\n",
    "\n",
    "# 4.7.1 Add the Suptitle 'Sky Plot' in font size 24\n",
    "plt.suptitle('Sky Plot', fontsize = 24, y=1.02)\n",
    "str_pos = r'$\\varphi$: '\n",
    "pos = lat*180/pi\n",
    "str_pos += str(int(pos))\n",
    "pos = (pos-int(pos))*60\n",
    "str_pos += '$^{\\circ}$'+str(int(pos))\n",
    "pos = (pos-int(pos))*60\n",
    "str_pos += '\\'%.2f'%pos+'\\\"'\n",
    "str_pos += '  $\\lambda$: '\n",
    "# pos = lon ...\n",
    "# str_pos += str(...)\n",
    "# pos = (...)*60\n",
    "# str_pos += ... +str(...)\n",
    "# pos = (pos-int(pos))*60\n",
    "# str_pos += '\\'%.2f'%pos+'\\\"'\n",
    "plt.title('For pos: ' + str_pos + ' WGS-84 at epoch: ' + epoch.strftime('%c') + ' UTC')\n",
    "plt.show()"
   ]
  },
  {
   "cell_type": "markdown",
   "metadata": {},
   "source": [
    "___\n",
    "### 4.7.2 Plot The Satellite Locations\n",
    "\n",
    "\n",
    "$$ \\begin{pmatrix}x_{plot} \\\\ y_{plot} \\end{pmatrix} = \n",
    "\\begin{pmatrix} (\\pi/2-\\theta)\\sin\\alpha \\\\ (\\pi/2-\\theta)\\cos\\alpha\\end{pmatrix}$$\n",
    "<br><br>\n",
    "\n",
    "Transform the satellite polar topocentric coordinates to coordinates projected within the circle created in 3.5.1.  The mapping function i.e., transform, is to plot the satellites relative to the receiver in a polar plot with the direction defined by the azimuth and the range by the zenith angle, which is the 1/2 pi complement of the elevation. The location will be indicated by a colored dot coded by satellite type; GPS satellites will be colored red and GLONASS satellites blue. A label using the same color-coding and with as its contents the PRN number will be plotted for each satellite.\n",
    "\n",
    "Note that you will be using the function 'plot' rather than the more obvious 'polar'. The reason for this is that it is much easier to attain the desired behavior using the plot command. However, it does require that we transform our polar topocentric coordinates to a set of 2D Cartesian\n",
    "Coordinates (not the same as the ones that you determined in 3.1.1!)\n",
    " \n",
    "The transformation is a simple decomposition of the [az elev] polar vector in x and y components.\n",
    "\n",
    "Plot all the satellites using a red dot for GPS and a blue dot for GLONASS\n",
    " \n",
    "Now label all the satellites using the ‘text’ function and the same color-coding.\n",
    "\n"
   ]
  },
  {
   "cell_type": "code",
   "execution_count": 143,
   "metadata": {},
   "outputs": [
    {
     "data": {
      "image/png": "[encoded data removed]",
      "text/plain": [
       "<Figure size 640x480 with 1 Axes>"
      ]
     },
     "metadata": {},
     "output_type": "display_data"
    }
   ],
   "source": [
    "# Copy the code from 4.7.1 here (including that of 4.7.0)\n",
    "\n",
    "# 4.7.2 Transform the polar coordinates to plot coordiniates for the GPS satellites\n",
    "x_plot = (pi/2-p_az_elev_gps[visible_gps,3:4])*sin(p_az_elev_gps[visible_gps,2:3])\n",
    "y_plot = (pi/2-p_az_elev_gps[visible_gps,3:4])*cos(p_az_elev_gps[visible_gps,2:3])\n",
    "\n",
    "# Plot the visible GPS satellites, make sure that we may add a legend\n",
    "plt.plot(x_plot,y_plot,'r.',label=u'GPS')\n",
    "# Label the visible GPS satellites with their PRN Codes\n",
    "\n",
    "for i, prn in enumerate(p_az_elev_gps[visible_gps,:]):\n",
    "    plt.text(x_plot[i]+.01+.01,y_plot[i]+.01,str(int(prn[0])), fontsize = 12)\n",
    "    \n",
    "# Transform the polar coordinates to plot coordiniates for the GLONASS satellites\n",
    "x_plot = (pi/2-p_az_elev_gln[visible_gln,3:4])*sin(p_az_elev_gln[visible_gln,2:3])\n",
    "y_plot = (pi/2-p_az_elev_gln[visible_gln,3:4])*cos(p_az_elev_gln[visible_gln,2:3])\n",
    "\n",
    "# Plot the visible GLONASS satellites, make sure that we may add a legend\n",
    "plt.plot(x_plot,y_plot,'b.',label=u'GLONAS')\n",
    "# Label the visible GLONASS satellites with their PRN Codes\n",
    "for i, prn in enumerate(p_az_elev_gln[visible_gln,:]):\n",
    "    plt.text(x_plot[i]+.01+.01,y_plot[i]+.01,str(int(prn[0])), fontsize = 12)\n",
    "\n",
    "    \n",
    "plt.legend(ncol=2, loc='lower right')    \n",
    "plt.show()"
   ]
  }
 ],
 "metadata": {
  "kernelspec": {
   "display_name": "py39",
   "language": "python",
   "name": "python3"
  },
  "language_info": {
   "codemirror_mode": {
    "name": "ipython",
    "version": 3
   },
   "file_extension": ".py",
   "mimetype": "text/x-python",
   "name": "python",
   "nbconvert_exporter": "python",
   "pygments_lexer": "ipython3",
   "version": "3.9.20"
  }
 },
 "nbformat": 4,
 "nbformat_minor": 2
}
