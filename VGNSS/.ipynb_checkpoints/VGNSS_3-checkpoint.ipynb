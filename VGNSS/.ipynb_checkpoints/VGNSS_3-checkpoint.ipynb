{
 "cells": [
  {
   "cell_type": "markdown",
   "metadata": {},
   "source": [
    "\n",
    "\n",
    "<img align=\"left\" width=\"30%\" style=\"padding-right:10px;\" src=\"../Images/Ccom.png\">\n",
    "\n",
    "___\n",
    "# Computational Problem Set - Being a VGNSS Receiver\n",
    "\n",
    "## Step 3 Computing Satellite Vehicle Ephemeris\n",
    "\n",
    "## Semme J. Dijkstra\n",
    "\n",
    "<div class=\"footer\">\n",
    "    <br><p>VGNSS Step 3: Semme J. Dijkstra February 5 20, 2020\n",
    "    </p>\n",
    "</div> \n"
   ]
  },
  {
   "cell_type": "code",
   "execution_count": 2,
   "metadata": {},
   "outputs": [
    {
     "name": "stdout",
     "output_type": "stream",
     "text": [
      "/home/jupyter-lfreg/ESCI_OE_771_871_Public\n"
     ]
    }
   ],
   "source": [
    "%load_ext autoreload\n",
    "%autoreload 2\n",
    "\n",
    "import sys\n",
    "import os\n",
    "import numpy as np\n",
    "\n",
    "from numpy import cos,pi,sin,pi,arccos, tan, arctan\n",
    "from datetime import datetime, timedelta\n",
    "from pathlib import Path\n",
    "\n",
    "vgnss_path=Path('../') # Get the path to the folder containing the mycode folder\n",
    "\n",
    "print(vgnss_path.resolve())\n",
    "sys.path.append(str(vgnss_path.resolve())) # add the folder to the list of paths \n",
    "\n",
    "from mycode.gnss import GNSS\n",
    "from mycode.sp3 import SP3\n",
    "# from mycode.lsq import LSQ\n",
    "# from mycode.ephemeris import Ephemeris"
   ]
  },
  {
   "cell_type": "markdown",
   "metadata": {},
   "source": [
    "Convert code to .py file"
   ]
  },
  {
   "cell_type": "markdown",
   "metadata": {},
   "source": [
    "___\n",
    "## 3 Computing Satellite Vehicle Ephemeris\n",
    "\n",
    "### Objective:\n",
    "\n",
    "Get familiar with ephemeris calculations, both using broadcast ephemeris and sp3 files\n",
    "\n",
    "### Assignment:\n",
    "\n",
    "Get the broadcast data from the NASA website and calculate the ephemeris for the epoch defined by you in step 1\n",
    "\n",
    "### Deliverable:\n",
    "\n",
    "Completed steps of this assignment\n"
   ]
  },
  {
   "cell_type": "markdown",
   "metadata": {},
   "source": [
    "___\n",
    "# 3.0 Get Ephemeris Data\n",
    "\n",
    "### Objective:\n",
    "\n",
    "Get an understanding that there are multiple methods of retrieving ephemeris data for a given epoch \n",
    "\n",
    "### Assignment:\n",
    "\n",
    "Describe the difference between methods of ephemeris data through answering a series of questions\n",
    "\n",
    "### Deliverables:\n",
    "\n",
    "- Answers to questions asked \n",
    "\n",
    "___\n",
    "\n",
    "There are three methods to calculate ephemeris for a given epoch. \n",
    "    \n",
    "    1 Calculate satellite coordinates from Almanac data\n",
    "    2 Calculate satellite coordinates from broadcast data\n",
    "    3 Calculate satellite coordinates from post processed ephemeris data\n",
    "\n",
    "For GPS the first 2 methods rely on Keplerian analysis of the satellite orbits. That is, using a set of parameters given in either an almanac or the GPS broadcast messages use Kepler's law of planetary motion to calculate the ephemeris of the satellite vehicles at the time of interest. For the third method we simply interpolate the satellite vehicle positions between epochs for which the ephemeris are known in ECEF cooordinates. For this we will us Lagrange polynomials. For GLONASS the same techniques are used, with the difference that the broadcast ephemeris are transmitted as ECEF coordinates rather than orbital parameters."
   ]
  },
  {
   "cell_type": "markdown",
   "metadata": {},
   "source": [
    "___\n",
    "### 3.0.0 \n",
    "\n",
    "In your own words describe the difference between almanac data and broadcast ephemeris data - hint search for 'What is the difference  between almanac and broadcast data for GPS'\n",
    "\n",
    "Fill in the answer below as follows:\n",
    "\n",
    "    q_3_0_0 = '...'\n",
    "    \n",
    "Make sure that the answer is *not* commented out"
   ]
  },
  {
   "cell_type": "code",
   "execution_count": 7,
   "metadata": {},
   "outputs": [
    {
     "name": "stdout",
     "output_type": "stream",
     "text": [
      "The difference between almanac and broadcast data is: almanac data provide a coarse satellite position  based on the calculated satellite orbit within the 90 days update period. While the broadcasted data provides a real-time orbital and clock information for a specific satellite and time. Also, broadcast data is updated every 2 hours, so it has higher precision than almanac data.\n"
     ]
    }
   ],
   "source": [
    "q_3_0_0 = 'The difference between almanac and broadcast data is: almanac data provide a coarse satellite position  based on the \\\n",
    "calculated satellite orbit within the 90 days update period. While the broadcasted data provides a real-time orbital and clock \\\n",
    "information for a specific satellite and time. Also, broadcast data is updated every 2 hours, so it has higher precision than \\\n",
    "almanac data.'\n",
    "\n",
    "print( q_3_0_0)"
   ]
  },
  {
   "cell_type": "markdown",
   "metadata": {},
   "source": [
    "___\n",
    "### 3.0.1\n",
    "\n",
    "Given your answer above explain why it is beneficial to collect all broadcast data and make them available for download in a single file for a given day\n",
    "Fill in the answer below as follows:\n",
    "\n",
    "    q_3_0_0 = '...'\n",
    "    \n",
    "Make sure that the answer is *not* commented out"
   ]
  },
  {
   "cell_type": "code",
   "execution_count": 8,
   "metadata": {},
   "outputs": [
    {
     "name": "stdout",
     "output_type": "stream",
     "text": [
      "Providing brdc files is beneficial because it facilitate data access and assures format consistency. Not only that, it makes data management simpler and and has less memory demand, as the user will only have to store one file.\n"
     ]
    }
   ],
   "source": [
    "q_3_0_1 = 'Providing brdc files is beneficial because it facilitate data access and assures format consistency. Not only \\\n",
    "that, it makes data management simpler and and has less memory demand, as the user will only have to store one file.'\n",
    "\n",
    "print( q_3_0_1)"
   ]
  },
  {
   "cell_type": "markdown",
   "metadata": {},
   "source": [
    "___\n",
    "### 3.0.2\n",
    "\n",
    "Given the nature of brdc files, are the ephemeris that you calculate from the parameters contained within considered 'ultra-rapid', 'rapid', or 'precise'\n",
    "\n",
    "    q_3_0_2 = '...'\n",
    "    \n",
    "Make sure that the answer is *not* commented out"
   ]
  },
  {
   "cell_type": "code",
   "execution_count": 83,
   "metadata": {},
   "outputs": [
    {
     "name": "stdout",
     "output_type": "stream",
     "text": [
      "Ephemeris calculated using brdc files are considered to be ultra-rapid because they provide only orbit and clock information within a hourly time window for one day.\n"
     ]
    }
   ],
   "source": [
    "q_3_0_2 = 'Ephemeris calculated using brdc files are considered to be ultra-rapid because they provide only \\\n",
    "orbit and clock information within a hourly time window for one day.'\n",
    "\n",
    "print( q_3_0_2)"
   ]
  },
  {
   "cell_type": "markdown",
   "metadata": {},
   "source": [
    "___\n",
    "### 3.0.3\n",
    "\n",
    "For the third method of ephemeris calculation we use SP3 files. These SP3 files are fundamentally different than the almanac files that contain Keplerian parameters. As a result we use interpolation rather than Orbital modeling for the determination of the satellite ephemeris at the time of interest.\n",
    "\n",
    "Can you think of a reason that SP3 files use ECEF coordinates, whereas almanac files use Keplerian elements? \n",
    "\n",
    "    q_3_0_3 = '...'\n",
    "    \n",
    "Make sure that the answer is *not* commented out"
   ]
  },
  {
   "cell_type": "code",
   "execution_count": 23,
   "metadata": {},
   "outputs": [
    {
     "name": "stdout",
     "output_type": "stream",
     "text": [
      "SP3 files use ECEF coordinates as opposed to orbital parameters because it has the purpose of providing a precise positioning with relation to Earth in a cartesian coordinates system, so receivers can directly calculate their positioning. Keplerian elements can only describe the shape and the orientation of the satellite orbit, which would require further calculations for obtaining the final geodetic coordinates.\n"
     ]
    }
   ],
   "source": [
    "q_3_0_3 = 'SP3 files use ECEF coordinates as opposed to orbital parameters because it has the purpose of providing a precise \\\n",
    "positioning with relation to Earth in a cartesian coordinates system, so receivers can directly calculate their positioning. Keplerian elements can only describe \\\n",
    "the shape and the orientation of the satellite orbit, which would require further calculations for obtaining the final \\\n",
    "geodetic coordinates.'\n",
    "\n",
    "print( q_3_0_3)\n"
   ]
  },
  {
   "cell_type": "markdown",
   "metadata": {},
   "source": [
    "The code cell below retrieves both the broadcast and SP3 ephemeris files available for a given epoch i.e., it does the steps that you did manually in step 2 for you. "
   ]
  },
  {
   "cell_type": "code",
   "execution_count": 3,
   "metadata": {},
   "outputs": [
    {
     "name": "stdout",
     "output_type": "stream",
     "text": [
      "Reading SP3 file: /home/jupyter-lfreg/ESCI_OE_771_871_Public/mydata/igs20981.sp3\n",
      "Reading SP3 file: /home/jupyter-lfreg/ESCI_OE_771_871_Public/mydata/igl20981.sp3\n",
      "Reading rinex nav file: /home/jupyter-lfreg/ESCI_OE_771_871_Public/mydata/brdc0830.20n\n"
     ]
    }
   ],
   "source": [
    "# Define the path where to find and place data\n",
    "data_path = os.path.join(vgnss_path, \"mydata\")\n",
    "data_path = os.path.abspath(data_path)\n",
    "\n",
    "# Create a GNSS object\n",
    "gnss = GNSS( data_path)\n",
    "\n",
    "# Run VGNSS_1 to get the right epoch data\n",
    "# %run VGNSS_1.ipynb\n",
    "\n",
    "gnss.add_next_epoch_ephemeris(2020, 3, 23, 15, 0, 0, 0)"
   ]
  },
  {
   "cell_type": "markdown",
   "metadata": {},
   "source": [
    "___\n",
    "### 3.0.4\n",
    "\n",
    "Rerun the code cell above using an epoch differing by at least a day from any epoch you used before (and different from your step 2) and capture the output text"
   ]
  },
  {
   "cell_type": "code",
   "execution_count": 16,
   "metadata": {},
   "outputs": [
    {
     "name": "stdout",
     "output_type": "stream",
     "text": [
      "Attempting to download precise ephemerides file: igs21502.sp3 Reading SP3 file: /home/jupyter-lfreg/ESCI_OE_771_871_Public/mydata/igs21502.sp3 Attempting to download precise ephemerides file: igl21502.sp3 Reading SP3 file: /home/jupyter-lfreg/ESCI_OE_771_871_Public/mydata/igl21502.sp3 Downloading ephemeris file: brdc0820.21n pub/gps/data/daily/2021/brdc/ Reading rinex nav file: /home/jupyter-lfreg/ESCI_OE_771_871_Public/mydata/brdc0820.21n\n"
     ]
    }
   ],
   "source": [
    "q_3_0_4 = 'Attempting to download precise ephemerides file: igs21502.sp3 \\\n",
    "Reading SP3 file: /home/jupyter-lfreg/ESCI_OE_771_871_Public/mydata/igs21502.sp3 \\\n",
    "Attempting to download precise ephemerides file: igl21502.sp3 \\\n",
    "Reading SP3 file: /home/jupyter-lfreg/ESCI_OE_771_871_Public/mydata/igl21502.sp3 \\\n",
    "Downloading ephemeris file: brdc0820.21n \\\n",
    "pub/gps/data/daily/2021/brdc/ \\\n",
    "Reading rinex nav file: /home/jupyter-lfreg/ESCI_OE_771_871_Public/mydata/brdc0820.21n'\n",
    "\n",
    "print( q_3_0_4)"
   ]
  },
  {
   "cell_type": "markdown",
   "metadata": {},
   "source": [
    "___\n",
    "### 3.0.5\n",
    "\n",
    "Rerun the code cell again with the same epoch as for 3.0.4 and capture the output text again\n",
    "\n",
    "You will notice that there is less text output for the 2nd attempt - do you understand why? (if not, look at the `GNSS.add_next_epoch_ephemeris()` and the contents of your `mydata` folder)."
   ]
  },
  {
   "cell_type": "code",
   "execution_count": 15,
   "metadata": {},
   "outputs": [
    {
     "name": "stdout",
     "output_type": "stream",
     "text": [
      "The method GNSS.add_next_epoch_ephemeris() provides less output because in the line 103 of the gnss.py file, there is a check if the file for the informed date doesn't yet exist, the script will try to download it and give the notice message. If the file exist, thie code block is not executed.\n"
     ]
    }
   ],
   "source": [
    "q_3_0_5 = 'The method GNSS.add_next_epoch_ephemeris() provides less output because in the line 103 of the gnss.py file, \\\n",
    "there is a check if the file for the informed date doesn\\'t yet exist, the script will try to download it and give the \\\n",
    "notice message. If the file exist, thie code block is not executed.'\n",
    "\n",
    "print( q_3_0_5)"
   ]
  },
  {
   "cell_type": "markdown",
   "metadata": {},
   "source": [
    "___\n",
    "### 3.0.6\n",
    "\n",
    "If you pick a different epoch on the same date should additional files be downloaded?"
   ]
  },
  {
   "cell_type": "code",
   "execution_count": 22,
   "metadata": {},
   "outputs": [
    {
     "name": "stdout",
     "output_type": "stream",
     "text": [
      "The method GNSS.add_next_epoch_ephemeris() (does/does not) download extra files because it can be observed on lines 155,159 and 167 of gnss.py that new files will only be download if the file names differ in days.\n"
     ]
    }
   ],
   "source": [
    "q_3_0_6 = 'The method GNSS.add_next_epoch_ephemeris() (does/does not) download extra files because it can be observed on lines \\\n",
    "155,159 and 167 of gnss.py that new files will only be download if the file names differ in days.'\n",
    "\n",
    "print( q_3_0_6)"
   ]
  },
  {
   "cell_type": "markdown",
   "metadata": {},
   "source": [
    "___\n",
    "## 3.1  Keplerian Motion\n",
    "\n",
    "\n",
    "### Objective:\n",
    "\n",
    "Get an understanding that there are multiple methods of computing ephemeris data for a given epoch \n",
    "\n",
    "### Assignment:\n",
    "\n",
    "Describe the difference between methods of ephemeris determination for a given epoch\n",
    "\n",
    "### Deliverable:\n",
    "\n",
    "Provide the answers requested below.\n",
    "\n",
    "\n",
    "Keplerian motion is the motion of **satellites** in their orbits. Satellites can be artificial and placed in an orbit or can be celestial. In both cases satellite motion is the motion of one object around another and is strongly dependent on the gravitational attraction between them. Johannes Kepler developed three laws of planetary motion around the sun in the early 17th century. At the end of the 17th century Newton showed that Kepler's laws are consistent with the law of universal gravitation and laws of motion. This makes that the Kepler's laws may be used to model satellite orbital motion with sufficient accuracy to determine satellite positions. Note that for timing relativistic effects come into play, which is a subject outside the scope of this course.\n",
    "\n",
    "<img align=\"left\" width=\"100%\" style=\"padding-right:10px;\" src=\"../Images/classical-orbital-elements-n.jpg\">\n",
    "image source : https://www.slideserve.com/cyma/topic-5-intro-to-space-orbits-enabling-objectives-5-1-describe-space-operations-powerpoint-ppt-presentation\n",
    "\n",
    "\n",
    "A generalized version of Kepler's laws states that:\n",
    "\n",
    "    1 The orbit of a satellite around a body is an ellipse with the body at\n",
    "      one of the two foci.\n",
    "    2 A line segment joining the body and the satellite sweeps out \n",
    "      equal areas during equal intervals of time.\n",
    "    3 The square of the orbital period of a satellite is directly proportional \n",
    "      to the cube of the semi-major axis of its orbit.\n",
    "      \n",
    "\n",
    "      \n",
    "The first two of Kepler's laws may be combined to calculate the position of satellites for a given epoch. The combination of the first two laws creates Kepler's equation that allows the position determination of the satellite in polar coordinates with their origin at the center of the body that they orbit. In the case of **GPS** that is the center of the reference frame defined by **WGS84**. The position of the satellite is then a function of time since being in a given location of the orbit. The reference used by Kepler's laws is the **perigee**, that is the location at which the satellite is closest to earth. The angle $\\nu$ describing the position is known as the **true anomaly** $\\nu$ and is the angle from the perigee increasing in the direction of the satellite motion.\n",
    "\n",
    "Using this we can calculate the position of the satellite vehicle in polar coordinates by:\n",
    "\n",
    "    1 Computing the true anomaly 𝜈 describing the location of the satellite relative to earth.\n",
    "    2 Computing the orbit radius for this location\n",
    "\n",
    "We can then find the `ECEF` coordinates by transforming the polar coordinates to Cartesian coordinates by relating the orbit parameters to the WGS84 system. These steps are divided in a number of smaller steps. All of these steps are implemented in the `gnss.get_single_epoch_ephemeris_from_gps_nav()` method. Note that the implementation of the method is based on the paper [Computing satellite velocity using the broadcast ephemeris](../Documentation/Remondi2004_Article_ComputingSatelliteVelocityUsin.pdf) by Ben Remondi(2004). In the mean time an improved modeling method has been published which is finding general acceptance; This method is found in the paper [Computing GPS Satellite Velocity and Acceleration from the Broadcast Navigation Message](../Documentation/GPS-SV-velocity-and-acceleration.pdf) by Thompson, et al. (2019) - if you feel up to it you may implement this version instead. \n",
    "\n",
    "___\n",
    "### 3.1.0 Establishment of the WGS84 System Parameters\n",
    "\n",
    "The first step is to set the parameters that implement the definition of the coordinate system. `WGS84` is the system used for GPS and the parameters of relevance to positioning satellite vehicles (**sv**s) are the `GM` for the gravitational constant for the Earth (in literature indicated as $\\nu$ or GM) and `w_e` as the rotation rate $\\omega$.\n",
    "\n",
    "$$ GM = \\nu = 3.986005\\cdot10^{14} $$\n",
    "$$ \\omega = 7.2921151467\\cdot10^{-5} $$\n",
    "\n"
   ]
  },
  {
   "cell_type": "markdown",
   "metadata": {},
   "source": [
    "### 3.1.1 Allocation of Memory for Ephemeris Data\n",
    "\n",
    "The `get_single_epoch_ephemeris_from_gps_nav()` method will return ephemeris data. In this step we will be using this method. The return data `eph` consist of matrix with the number of rows matching the number of satellites for which data are available. The data used in this step are from the GPS broadcast ephemeris, that is the data that the GPS svs transmit while in orbit. Given that we are dealing with a virtual receiver we do not have the capability to actually receive these data. Fortunately these data are however stored at the various gnss data centers around the world, including the NASA repository used for this assignment. The `GNSS.add_next_epoch_ephemeris()` automatically retrieves these data for GPS and stores them in a `RINEX_nav` object. The `RINEX_nav` class was specifically created to be able to read and hold the broadcast ephemeris data that is disseminated in the *Receiver Independent Exchange Format* (**RINEX**) navigation files. In case of GPS broadcast data these are the Keplerian elements needed to calculate the position of the svs. Much like the precise ephemeris files you analyzed in step 2 the data is organized in epochs and given for each PRN (You will find a RINEX format description in the documentation). You can determine the number of satellites by counting the PRN identifiers for the `RINEX_nav` object `gps_nav` holding the data.\n",
    "\n",
    "Note: Please explore the documentation folder for the VGNSS assignment -- you will find many useful files there\n",
    "\n",
    "\n",
    "<div class=\"footer\">\n",
    "    <br><p>VGNSS Step 0: Semme J. Dijkstra December 20, 2019</p>\n",
    "</div> "
   ]
  },
  {
   "cell_type": "code",
   "execution_count": 24,
   "metadata": {},
   "outputs": [
    {
     "name": "stdout",
     "output_type": "stream",
     "text": [
      "Number of satellites for which broadcast ephemeris are available: 32\n"
     ]
    }
   ],
   "source": [
    "# Print the number of satellites contained in the broadcast ephemeris\n",
    "print('Number of satellites for which broadcast ephemeris are available: '+str(len(gnss.eph_gps_nav[-1])))"
   ]
  },
  {
   "cell_type": "markdown",
   "metadata": {},
   "source": [
    "___\n",
    "### 3.1.1.0\n",
    "\n",
    "Is the number of satellites listed above all the GNSS satellites for which broadcast ephemeris are available? Can you suggest a clearer output message?"
   ]
  },
  {
   "cell_type": "code",
   "execution_count": 63,
   "metadata": {},
   "outputs": [
    {
     "name": "stdout",
     "output_type": "stream",
     "text": [
      "I think the output message should be total number of satellites observed because there might not exist ephemeris for all the satellite at the same epoch.\n"
     ]
    }
   ],
   "source": [
    "q_3_1_1_0 = 'I think the output message should be total number of satellites observed because there might not exist \\\n",
    "ephemeris for all the satellite at the same epoch.'\n",
    "\n",
    "print( q_3_1_1_0)\n"
   ]
  },
  {
   "cell_type": "markdown",
   "metadata": {},
   "source": [
    "___\n",
    "### 3.1.2 Get the Ephemeris Data for Satellites\n",
    "\n",
    "For the day of our epoch we will cycle through all of the satellites whose data are contained in the broadcast ephemeris file. The `RINEX_nav` object `gps_nav` holds a list of records containing the orbit parameters for each satellite at different epochs, these records are contained in the list `gps_nav.records`. These records are `structured arrays` which are data records in which the fields may be addressed by name. You will notice that in the file `rinex_nav.py` there is the definition of the `gps_d_type`. This `gps_d_type` is then the structure that can hold the data associated to the broadcast ephemeris. If you look at the definition of the RINEX navigation data structure (included in the documents section) you will see that the parameters match the contents of a GPS navigation message.\n",
    "\n",
    "If for example you want to see what the PRN is for the last record contained in `gps_nav` you would use:\n",
    "\n",
    "    gps_nav.records[-1]['prn']\n",
    "\n",
    "In the code cell below you will retrieve the last `GNSS.gps_nav` object that the `gnss` object holds."
   ]
  },
  {
   "cell_type": "code",
   "execution_count": 25,
   "metadata": {},
   "outputs": [
    {
     "name": "stdout",
     "output_type": "stream",
     "text": [
      "The last record in the broadcast ephemeris for the current epoch are for PRN: 25\n"
     ]
    }
   ],
   "source": [
    "# Get the RINEX_nav object holding the broadcast ephemeris for the current epoch\n",
    "gps_nav = gnss.gps_nav[-1]\n",
    "\n",
    "# Get the PRN of the last record in the broadcast ephemeris for the current epoch\n",
    "print( 'The last record in the broadcast ephemeris for the current epoch are for PRN: '+ \\\n",
    "      str(gps_nav.records[-1]['prn']))"
   ]
  },
  {
   "cell_type": "markdown",
   "metadata": {},
   "source": [
    "___\n",
    "### 3.1.1.1\n",
    "\n",
    "The code cell below shows the epoch time for each `gps_nav` record - update it so that it also shows the PRNs ephemeris data available at that epoch"
   ]
  },
  {
   "cell_type": "code",
   "execution_count": 52,
   "metadata": {},
   "outputs": [
    {
     "name": "stdout",
     "output_type": "stream",
     "text": [
      "172800.0   PRN: 2 \n",
      "172800.0   PRN: 3 \n",
      "172800.0   PRN: 4 \n",
      "172800.0   PRN: 5 \n",
      "172800.0   PRN: 6 \n",
      "172800.0   PRN: 7 \n",
      "172800.0   PRN: 8 \n",
      "172800.0   PRN: 9 \n",
      "172800.0   PRN: 10 \n",
      "172800.0   PRN: 11 \n",
      "172800.0   PRN: 12 \n",
      "172800.0   PRN: 13 \n",
      "172800.0   PRN: 14 \n",
      "172800.0   PRN: 15 \n",
      "172800.0   PRN: 16 \n",
      "172800.0   PRN: 17 \n",
      "172800.0   PRN: 18 \n",
      "172800.0   PRN: 19 \n",
      "172800.0   PRN: 20 \n",
      "172800.0   PRN: 21 \n",
      "172800.0   PRN: 22 \n",
      "172800.0   PRN: 23 \n",
      "172800.0   PRN: 24 \n",
      "172800.0   PRN: 26 \n",
      "172800.0   PRN: 27 \n",
      "172800.0   PRN: 28 \n",
      "172800.0   PRN: 29 \n",
      "172800.0   PRN: 30 \n",
      "172800.0   PRN: 31 \n",
      "172800.0   PRN: 32 \n",
      "179984.0   PRN: 2 \n",
      "179984.0   PRN: 3 \n",
      "179984.0   PRN: 8 \n",
      "179984.0   PRN: 9 \n",
      "179984.0   PRN: 21 \n",
      "179984.0   PRN: 22 \n",
      "179984.0   PRN: 26 \n",
      "179984.0   PRN: 32 \n",
      "180000.0   PRN: 1 \n",
      "180000.0   PRN: 2 \n",
      "180000.0   PRN: 4 \n",
      "180000.0   PRN: 5 \n",
      "180000.0   PRN: 6 \n",
      "180000.0   PRN: 7 \n",
      "180000.0   PRN: 9 \n",
      "180000.0   PRN: 10 \n",
      "180000.0   PRN: 11 \n",
      "180000.0   PRN: 12 \n",
      "180000.0   PRN: 13 \n",
      "180000.0   PRN: 14 \n",
      "180000.0   PRN: 15 \n",
      "180000.0   PRN: 16 \n",
      "180000.0   PRN: 17 \n",
      "180000.0   PRN: 18 \n",
      "180000.0   PRN: 19 \n",
      "180000.0   PRN: 20 \n",
      "180000.0   PRN: 21 \n",
      "180000.0   PRN: 22 \n",
      "180000.0   PRN: 23 \n",
      "180000.0   PRN: 24 \n",
      "180000.0   PRN: 25 \n",
      "180000.0   PRN: 26 \n",
      "180000.0   PRN: 27 \n",
      "180000.0   PRN: 28 \n",
      "180000.0   PRN: 29 \n",
      "180000.0   PRN: 30 \n",
      "180000.0   PRN: 31 \n",
      "180000.0   PRN: 32 \n",
      "187184.0   PRN: 2 \n",
      "187184.0   PRN: 9 \n",
      "187184.0   PRN: 13 \n",
      "187184.0   PRN: 21 \n",
      "187184.0   PRN: 22 \n",
      "187184.0   PRN: 26 \n",
      "187184.0   PRN: 32 \n",
      "187200.0   PRN: 1 \n",
      "187200.0   PRN: 3 \n",
      "187200.0   PRN: 4 \n",
      "187200.0   PRN: 5 \n",
      "187200.0   PRN: 6 \n",
      "187200.0   PRN: 7 \n",
      "187200.0   PRN: 8 \n",
      "187200.0   PRN: 10 \n",
      "187200.0   PRN: 11 \n",
      "187200.0   PRN: 12 \n",
      "187200.0   PRN: 13 \n",
      "187200.0   PRN: 14 \n",
      "187200.0   PRN: 15 \n",
      "187200.0   PRN: 16 \n",
      "187200.0   PRN: 17 \n",
      "187200.0   PRN: 18 \n",
      "187200.0   PRN: 19 \n",
      "187200.0   PRN: 20 \n",
      "187200.0   PRN: 23 \n",
      "187200.0   PRN: 24 \n",
      "187200.0   PRN: 25 \n",
      "187200.0   PRN: 27 \n",
      "187200.0   PRN: 28 \n",
      "187200.0   PRN: 29 \n",
      "187200.0   PRN: 30 \n",
      "187200.0   PRN: 31 \n",
      "194384.0   PRN: 13 \n",
      "194384.0   PRN: 19 \n",
      "194400.0   PRN: 1 \n",
      "194400.0   PRN: 2 \n",
      "194400.0   PRN: 3 \n",
      "194400.0   PRN: 4 \n",
      "194400.0   PRN: 5 \n",
      "194400.0   PRN: 6 \n",
      "194400.0   PRN: 7 \n",
      "194400.0   PRN: 8 \n",
      "194400.0   PRN: 9 \n",
      "194400.0   PRN: 10 \n",
      "194400.0   PRN: 11 \n",
      "194400.0   PRN: 12 \n",
      "194400.0   PRN: 14 \n",
      "194400.0   PRN: 15 \n",
      "194400.0   PRN: 16 \n",
      "194400.0   PRN: 17 \n",
      "194400.0   PRN: 18 \n",
      "194400.0   PRN: 19 \n",
      "194400.0   PRN: 20 \n",
      "194400.0   PRN: 21 \n",
      "194400.0   PRN: 22 \n",
      "194400.0   PRN: 23 \n",
      "194400.0   PRN: 24 \n",
      "194400.0   PRN: 25 \n",
      "194400.0   PRN: 26 \n",
      "194400.0   PRN: 27 \n",
      "194400.0   PRN: 28 \n",
      "194400.0   PRN: 29 \n",
      "194400.0   PRN: 30 \n",
      "194400.0   PRN: 31 \n",
      "194400.0   PRN: 32 \n",
      "195280.0   PRN: 23 \n",
      "201584.0   PRN: 16 \n",
      "201584.0   PRN: 27 \n",
      "201584.0   PRN: 30 \n",
      "201600.0   PRN: 1 \n",
      "201600.0   PRN: 2 \n",
      "201600.0   PRN: 3 \n",
      "201600.0   PRN: 4 \n",
      "201600.0   PRN: 5 \n",
      "201600.0   PRN: 6 \n",
      "201600.0   PRN: 7 \n",
      "201600.0   PRN: 8 \n",
      "201600.0   PRN: 9 \n",
      "201600.0   PRN: 10 \n",
      "201600.0   PRN: 11 \n",
      "201600.0   PRN: 12 \n",
      "201600.0   PRN: 13 \n",
      "201600.0   PRN: 14 \n",
      "201600.0   PRN: 15 \n",
      "201600.0   PRN: 16 \n",
      "201600.0   PRN: 17 \n",
      "201600.0   PRN: 18 \n",
      "201600.0   PRN: 19 \n",
      "201600.0   PRN: 20 \n",
      "201600.0   PRN: 21 \n",
      "201600.0   PRN: 22 \n",
      "201600.0   PRN: 23 \n",
      "201600.0   PRN: 24 \n",
      "201600.0   PRN: 25 \n",
      "201600.0   PRN: 26 \n",
      "201600.0   PRN: 27 \n",
      "201600.0   PRN: 28 \n",
      "201600.0   PRN: 29 \n",
      "201600.0   PRN: 30 \n",
      "201600.0   PRN: 31 \n",
      "201600.0   PRN: 32 \n",
      "208784.0   PRN: 5 \n",
      "208784.0   PRN: 10 \n",
      "208784.0   PRN: 16 \n",
      "208784.0   PRN: 17 \n",
      "208784.0   PRN: 27 \n",
      "208784.0   PRN: 30 \n",
      "208800.0   PRN: 1 \n",
      "208800.0   PRN: 2 \n",
      "208800.0   PRN: 3 \n",
      "208800.0   PRN: 4 \n",
      "208800.0   PRN: 5 \n",
      "208800.0   PRN: 6 \n",
      "208800.0   PRN: 7 \n",
      "208800.0   PRN: 8 \n",
      "208800.0   PRN: 9 \n",
      "208800.0   PRN: 10 \n",
      "208800.0   PRN: 11 \n",
      "208800.0   PRN: 12 \n",
      "208800.0   PRN: 13 \n",
      "208800.0   PRN: 14 \n",
      "208800.0   PRN: 15 \n",
      "208800.0   PRN: 17 \n",
      "208800.0   PRN: 18 \n",
      "208800.0   PRN: 19 \n",
      "208800.0   PRN: 20 \n",
      "208800.0   PRN: 21 \n",
      "208800.0   PRN: 22 \n",
      "208800.0   PRN: 23 \n",
      "208800.0   PRN: 24 \n",
      "208800.0   PRN: 25 \n",
      "208800.0   PRN: 26 \n",
      "208800.0   PRN: 28 \n",
      "208800.0   PRN: 29 \n",
      "208800.0   PRN: 31 \n",
      "208800.0   PRN: 32 \n",
      "214176.0   PRN: 4 \n",
      "215984.0   PRN: 5 \n",
      "215984.0   PRN: 7 \n",
      "215984.0   PRN: 10 \n",
      "215984.0   PRN: 12 \n",
      "215984.0   PRN: 17 \n",
      "215984.0   PRN: 29 \n",
      "216000.0   PRN: 1 \n",
      "216000.0   PRN: 2 \n",
      "216000.0   PRN: 3 \n",
      "216000.0   PRN: 4 \n",
      "216000.0   PRN: 6 \n",
      "216000.0   PRN: 7 \n",
      "216000.0   PRN: 8 \n",
      "216000.0   PRN: 9 \n",
      "216000.0   PRN: 11 \n",
      "216000.0   PRN: 12 \n",
      "216000.0   PRN: 13 \n",
      "216000.0   PRN: 14 \n",
      "216000.0   PRN: 15 \n",
      "216000.0   PRN: 16 \n",
      "216000.0   PRN: 18 \n",
      "216000.0   PRN: 19 \n",
      "216000.0   PRN: 20 \n",
      "216000.0   PRN: 21 \n",
      "216000.0   PRN: 22 \n",
      "216000.0   PRN: 23 \n",
      "216000.0   PRN: 24 \n",
      "216000.0   PRN: 25 \n",
      "216000.0   PRN: 26 \n",
      "216000.0   PRN: 27 \n",
      "216000.0   PRN: 28 \n",
      "216000.0   PRN: 29 \n",
      "216000.0   PRN: 30 \n",
      "216000.0   PRN: 31 \n",
      "216000.0   PRN: 32 \n",
      "223184.0   PRN: 7 \n",
      "223184.0   PRN: 12 \n",
      "223184.0   PRN: 29 \n",
      "223200.0   PRN: 1 \n",
      "223200.0   PRN: 2 \n",
      "223200.0   PRN: 3 \n",
      "223200.0   PRN: 4 \n",
      "223200.0   PRN: 5 \n",
      "223200.0   PRN: 6 \n",
      "223200.0   PRN: 8 \n",
      "223200.0   PRN: 9 \n",
      "223200.0   PRN: 10 \n",
      "223200.0   PRN: 11 \n",
      "223200.0   PRN: 13 \n",
      "223200.0   PRN: 14 \n",
      "223200.0   PRN: 15 \n",
      "223200.0   PRN: 16 \n",
      "223200.0   PRN: 17 \n",
      "223200.0   PRN: 18 \n",
      "223200.0   PRN: 19 \n",
      "223200.0   PRN: 20 \n",
      "223200.0   PRN: 21 \n",
      "223200.0   PRN: 22 \n",
      "223200.0   PRN: 23 \n",
      "223200.0   PRN: 24 \n",
      "223200.0   PRN: 25 \n",
      "223200.0   PRN: 26 \n",
      "223200.0   PRN: 27 \n",
      "223200.0   PRN: 28 \n",
      "223200.0   PRN: 30 \n",
      "223200.0   PRN: 31 \n",
      "223200.0   PRN: 32 \n",
      "230384.0   PRN: 15 \n",
      "230384.0   PRN: 20 \n",
      "230384.0   PRN: 31 \n",
      "230400.0   PRN: 1 \n",
      "230400.0   PRN: 2 \n",
      "230400.0   PRN: 3 \n",
      "230400.0   PRN: 4 \n",
      "230400.0   PRN: 5 \n",
      "230400.0   PRN: 6 \n",
      "230400.0   PRN: 7 \n",
      "230400.0   PRN: 8 \n",
      "230400.0   PRN: 9 \n",
      "230400.0   PRN: 10 \n",
      "230400.0   PRN: 11 \n",
      "230400.0   PRN: 12 \n",
      "230400.0   PRN: 13 \n",
      "230400.0   PRN: 14 \n",
      "230400.0   PRN: 15 \n",
      "230400.0   PRN: 16 \n",
      "230400.0   PRN: 17 \n",
      "230400.0   PRN: 18 \n",
      "230400.0   PRN: 19 \n",
      "230400.0   PRN: 20 \n",
      "230400.0   PRN: 21 \n",
      "230400.0   PRN: 22 \n",
      "230400.0   PRN: 23 \n",
      "230400.0   PRN: 24 \n",
      "230400.0   PRN: 25 \n",
      "230400.0   PRN: 26 \n",
      "230400.0   PRN: 27 \n",
      "230400.0   PRN: 28 \n",
      "230400.0   PRN: 29 \n",
      "230400.0   PRN: 30 \n",
      "230400.0   PRN: 31 \n",
      "230400.0   PRN: 32 \n",
      "233072.0   PRN: 14 \n",
      "237584.0   PRN: 6 \n",
      "237584.0   PRN: 15 \n",
      "237584.0   PRN: 20 \n",
      "237584.0   PRN: 24 \n",
      "237584.0   PRN: 31 \n",
      "237600.0   PRN: 1 \n",
      "237600.0   PRN: 2 \n",
      "237600.0   PRN: 3 \n",
      "237600.0   PRN: 4 \n",
      "237600.0   PRN: 5 \n",
      "237600.0   PRN: 6 \n",
      "237600.0   PRN: 7 \n",
      "237600.0   PRN: 8 \n",
      "237600.0   PRN: 9 \n",
      "237600.0   PRN: 10 \n",
      "237600.0   PRN: 11 \n",
      "237600.0   PRN: 12 \n",
      "237600.0   PRN: 13 \n",
      "237600.0   PRN: 14 \n",
      "237600.0   PRN: 16 \n",
      "237600.0   PRN: 17 \n",
      "237600.0   PRN: 18 \n",
      "237600.0   PRN: 19 \n",
      "237600.0   PRN: 21 \n",
      "237600.0   PRN: 22 \n",
      "237600.0   PRN: 23 \n",
      "237600.0   PRN: 24 \n",
      "237600.0   PRN: 25 \n",
      "237600.0   PRN: 26 \n",
      "237600.0   PRN: 27 \n",
      "237600.0   PRN: 28 \n",
      "237600.0   PRN: 29 \n",
      "237600.0   PRN: 30 \n",
      "237600.0   PRN: 32 \n",
      "244784.0   PRN: 6 \n",
      "244784.0   PRN: 11 \n",
      "244784.0   PRN: 24 \n",
      "244784.0   PRN: 28 \n",
      "244800.0   PRN: 1 \n",
      "244800.0   PRN: 2 \n",
      "244800.0   PRN: 3 \n",
      "244800.0   PRN: 4 \n",
      "244800.0   PRN: 5 \n",
      "244800.0   PRN: 7 \n",
      "244800.0   PRN: 8 \n",
      "244800.0   PRN: 9 \n",
      "244800.0   PRN: 10 \n",
      "244800.0   PRN: 11 \n",
      "244800.0   PRN: 12 \n",
      "244800.0   PRN: 13 \n",
      "244800.0   PRN: 14 \n",
      "244800.0   PRN: 15 \n",
      "244800.0   PRN: 16 \n",
      "244800.0   PRN: 17 \n",
      "244800.0   PRN: 18 \n",
      "244800.0   PRN: 19 \n",
      "244800.0   PRN: 20 \n",
      "244800.0   PRN: 21 \n",
      "244800.0   PRN: 22 \n",
      "244800.0   PRN: 23 \n",
      "244800.0   PRN: 25 \n",
      "244800.0   PRN: 26 \n",
      "244800.0   PRN: 27 \n",
      "244800.0   PRN: 28 \n",
      "244800.0   PRN: 29 \n",
      "244800.0   PRN: 30 \n",
      "244800.0   PRN: 31 \n",
      "244800.0   PRN: 32 \n",
      "248384.0   PRN: 18 \n",
      "251984.0   PRN: 1 \n",
      "251984.0   PRN: 11 \n",
      "251984.0   PRN: 25 \n",
      "251984.0   PRN: 28 \n",
      "252000.0   PRN: 1 \n",
      "252000.0   PRN: 2 \n",
      "252000.0   PRN: 3 \n",
      "252000.0   PRN: 4 \n",
      "252000.0   PRN: 5 \n",
      "252000.0   PRN: 6 \n",
      "252000.0   PRN: 7 \n",
      "252000.0   PRN: 8 \n",
      "252000.0   PRN: 9 \n",
      "252000.0   PRN: 10 \n",
      "252000.0   PRN: 11 \n",
      "252000.0   PRN: 12 \n",
      "252000.0   PRN: 13 \n",
      "252000.0   PRN: 14 \n",
      "252000.0   PRN: 15 \n",
      "252000.0   PRN: 16 \n",
      "252000.0   PRN: 17 \n",
      "252000.0   PRN: 18 \n",
      "252000.0   PRN: 19 \n",
      "252000.0   PRN: 20 \n",
      "252000.0   PRN: 21 \n",
      "252000.0   PRN: 22 \n",
      "252000.0   PRN: 23 \n",
      "252000.0   PRN: 24 \n",
      "252000.0   PRN: 25 \n",
      "252000.0   PRN: 26 \n",
      "252000.0   PRN: 27 \n",
      "252000.0   PRN: 29 \n",
      "252000.0   PRN: 30 \n",
      "252000.0   PRN: 31 \n",
      "252000.0   PRN: 32 \n",
      "259184.0   PRN: 1 \n",
      "259184.0   PRN: 3 \n",
      "259184.0   PRN: 8 \n",
      "259184.0   PRN: 25 \n"
     ]
    }
   ],
   "source": [
    "for rec in gps_nav.records:\n",
    "    print(str(rec['t_oe']) + \"   PRN: {} \".format(rec['prn']) )\n",
    "    "
   ]
  },
  {
   "cell_type": "markdown",
   "metadata": {},
   "source": [
    "    Sample output: \n",
    "        518400.0    PRN: 1\n",
    "        518400.0    PRN: 2\n",
    "        518400.0    PRN: 3\n",
    "        518400.0    PRN: 4\n",
    "        518400.0    PRN: 5\n",
    "        ..."
   ]
  },
  {
   "cell_type": "markdown",
   "metadata": {},
   "source": [
    "___\n",
    "### 3.1.1.2\n",
    "\n",
    "Looking at the above: are there broadcast data available for each epoch for each satellite? Do you think orbit parameters are stable enough to allow interpolation over larger periods - why?"
   ]
  },
  {
   "cell_type": "code",
   "execution_count": 65,
   "metadata": {},
   "outputs": [
    {
     "name": "stdout",
     "output_type": "stream",
     "text": [
      "There isn't data for all satellites for every epoch. I can see for every epoch there is a different list ofsatellite prn. I think orbit parameters are not trustful enough for a interpolation for a long period because the method used for calculating the satellite orbit doesn't take into account enviromental effects as the gravitational pertubation, therefore, the difference between the predicted orbit and the real orbit. For that, it is not reccomended to use the data for interpolation for larger time step\n"
     ]
    }
   ],
   "source": [
    "q_3_1_1_2 = 'There isn\\'t data for all satellites for every epoch. I can see for every epoch there is a different list of\\\n",
    "satellite prn. \\\n",
    "I think orbit parameters are not trustful enough for a interpolation for a long period because the method used for calculating \\\n",
    "the satellite orbit doesn\\'t take into account enviromental effects as the gravitational pertubation, therefore, the difference \\\n",
    "between the predicted orbit and the real orbit. For that, it is not reccomended to use the data for interpolation for larger \\\n",
    "time step'\n",
    "\n",
    "print( q_3_1_1_2)"
   ]
  },
  {
   "cell_type": "markdown",
   "metadata": {},
   "source": [
    "You can also subset the records by the contents of the records. For example you can find all the records with PRN 25 by using \n",
    "\n",
    "    gps_nav.records[ gps_nav.records['prn'] == 25]\n",
    "\n",
    "the `RINEX_nav` keeps track of all the **PRN**s for which data are available in the broadcast ephemeris (peruse the code if you want to understand how this is done). You can determine the number of satellites by determining the length of the list of svs for which ephemeris are available (see code cell below)"
   ]
  },
  {
   "cell_type": "code",
   "execution_count": 73,
   "metadata": {},
   "outputs": [
    {
     "name": "stdout",
     "output_type": "stream",
     "text": [
      "[25 25 25 25 25 25 25 25 25 25 25 25 25]\n",
      "t_oe: [180000. 187200. 194400. 201600. 208800. 216000. 223200. 230400. 237600.\n",
      " 244800. 251984. 252000. 259184.]\n",
      "File brdc0820.21n contains records for PRNs:[2, 3, 4, 5, 6, 7, 8, 9, 10, 11, 12, 13, 14, 15, 16, 17, 18, 19, 20, 21, 22, 23, 24, 26, 27, 28, 29, 30, 31, 32, 1, 25]\n"
     ]
    }
   ],
   "source": [
    "# Get a subset of records for sv with PRN 25\n",
    "prn_25_recs = gps_nav.records[ gps_nav.records['prn'] == 25]\n",
    "# To demonstrate that this worked show the prn code for the records just found\n",
    "\n",
    "print( prn_25_recs['prn'])\n",
    "# Also show the time of ephemeris for these recods (seconds since )\n",
    "\n",
    "print(\"t_oe: \"+str(prn_25_recs['t_oe']))\n",
    "# Print a list of all the PRNs for which PRN are available\n",
    "\n",
    "print('File '+gnss.eph_gps_nav_filenames[-1]+' contains records for PRNs:'+str(gps_nav.sat_prns))"
   ]
  },
  {
   "cell_type": "markdown",
   "metadata": {},
   "source": [
    "     Sample output:\n",
    "        [25 25 25 25 25 25 25 25 25 25 25 25 25]\n",
    "        t_oe: [518400. 525584. 532800. 540000. 547200. 554400. 561600. 568800. 576000.\n",
    "         583200. 590400. 597600. 604768.]\n",
    "         File brdc0810.20n contains records for PRNs:[1, 2, 3, 4, 5, 6, 7, 8, 9, 10, 11, \n",
    "         12, 13, 15, 16, 17, 18, 19, 20, 21, 22, 23, 24, 25, 26, 27, 28, 29, 30, 31, 32, 14]\n"
   ]
  },
  {
   "cell_type": "markdown",
   "metadata": {},
   "source": [
    "___\n",
    "### 3.1.1.3\n",
    "\n",
    "Update the code cell below to determine the number of satellites for which your broadcast file holds records and assign it to n_PRNS - you may look at the last line "
   ]
  },
  {
   "cell_type": "code",
   "execution_count": 77,
   "metadata": {},
   "outputs": [
    {
     "name": "stdout",
     "output_type": "stream",
     "text": [
      "The value of n_PRNS is: 32\n"
     ]
    }
   ],
   "source": [
    "# 3.1.1.3\n",
    "\n",
    "n_PRNS = len(gps_nav.sat_prns)\n",
    "\n",
    "print( 'The value of n_PRNS is: ' + str(len(gps_nav.sat_prns)))"
   ]
  },
  {
   "cell_type": "markdown",
   "metadata": {},
   "source": [
    "    Sample Output:\n",
    "        The value of n_PRNS is: (Make sure that the right number is displayed e.g. 32)"
   ]
  },
  {
   "cell_type": "markdown",
   "metadata": {},
   "source": [
    "The code cell below uses both the broadcast orbit data as well as the ephemeris data contained in SP3 files for the same epoch. You would expect the data to be very similar, but slightly different.\n",
    "\n",
    "<div class=\"footer\">\n",
    "    <br><p>VGNSS Step 0: Semme J. Dijkstra December 20, 2019</p>\n",
    "</div> "
   ]
  },
  {
   "cell_type": "code",
   "execution_count": 79,
   "metadata": {
    "scrolled": true
   },
   "outputs": [
    {
     "name": "stdout",
     "output_type": "stream",
     "text": [
      "Attempting to download precise ephemerides file: igs14893.sp3\n",
      "Reading SP3 file: /home/jupyter-lfreg/ESCI_OE_771_871_Public/mydata/igs14893.sp3\n",
      "Attempting to download precise ephemerides file: igl14893.sp3\n",
      "Reading SP3 file: /home/jupyter-lfreg/ESCI_OE_771_871_Public/mydata/igl14893.sp3\n",
      "Downloading ephemeris file: brdc2050.08n\n",
      "pub/gps/data/daily/2008/brdc/\n",
      "Reading rinex nav file: /home/jupyter-lfreg/ESCI_OE_771_871_Public/mydata/brdc2050.08n\n",
      "[20.]\n",
      "[22378934.14849309]\n",
      "[-10758531.17651707]\n",
      "[9271702.76622499]\n",
      "[20.]\n",
      "[22378936.23624153]\n",
      "[-10758531.50255077]\n",
      "[9271703.96487724]\n"
     ]
    }
   ],
   "source": [
    "data_path = os.path.join(vgnss_path, \"mydata\")\n",
    "data_path = os.path.abspath(data_path)\n",
    "gnss = GNSS( data_path)\n",
    "\n",
    "gnss.add_next_epoch_ephemeris(2008,7,23,2,1,45,0)\n",
    "\n",
    "ind = gnss.eph_gps_nav[-1][:,0] == 20 \n",
    "print(gnss.eph_gps_nav[-1][ind,0])\n",
    "print(gnss.eph_gps_nav[-1][ind,1])\n",
    "print(gnss.eph_gps_nav[-1][ind,2])\n",
    "print(gnss.eph_gps_nav[-1][ind,3])\n",
    "\n",
    "ind = gnss.eph_gps_sp3[-1][:,0] == 20 \n",
    "print(gnss.eph_gps_sp3[-1][ind,0])\n",
    "print(gnss.eph_gps_sp3[-1][ind,1])\n",
    "print(gnss.eph_gps_sp3[-1][ind,2])\n",
    "print(gnss.eph_gps_sp3[-1][ind,3])\n",
    "\n",
    "if gnss.gnss_weeks[-1] < 1300:\n",
    "    raise RuntimeError( 'epoch predates GLONASS, please pick a later date')\n",
    "if not gnss.eph_gps_sp3_filenames[-1][0:3] == 'igs':\n",
    "    raise RuntimeError( gnss.eph_gps_sp3_filenames[-1][0:3])\n",
    "\n"
   ]
  },
  {
   "cell_type": "markdown",
   "metadata": {},
   "source": [
    "___\n",
    "### 3.1.1.4\n",
    "\n",
    "Given the nature of the broadcast files and the SP3 files (how are they created?) which estimate of the ephemeris for the satellite `prn` at the epoch is more accurate i.e., which is preferred for usage?"
   ]
  },
  {
   "cell_type": "code",
   "execution_count": 80,
   "metadata": {},
   "outputs": [
    {
     "name": "stdout",
     "output_type": "stream",
     "text": [
      "The (brdc/SP3) ephemeris results are preferred because SP3 are processed by analysis centers with more precise solutions for satellite positions for many satellites while bdrc are \"instantaneous\" information,therefore, less precise.\n"
     ]
    }
   ],
   "source": [
    "q_3_1_1_4 = 'The (brdc/SP3) ephemeris results are preferred because SP3 are processed by analysis centers with more precise \\\n",
    "solutions for satellite positions for many satellites while bdrc are \"instantaneous\" information,therefore, less precise.'\n",
    "\n",
    "print( q_3_1_1_4)"
   ]
  },
  {
   "cell_type": "markdown",
   "metadata": {},
   "source": [
    "    Sample output:\n",
    "        The (brdc/SP3) ephemeris results are preferred because ..."
   ]
  },
  {
   "cell_type": "markdown",
   "metadata": {},
   "source": [
    "## 3.2 Ephemeris from SP3 Files Using Lagrange Polynomials\n",
    "\n",
    "The following is based on Wikipedia on February 19, 2020\n",
    "___\n",
    "\n",
    "Given a set of $k + 1$ data points\n",
    "\n",
    "$$(x_0,y_0), … ,(x_j,y_j), … ,(x_k,y_k)$$ \n",
    "\n",
    "where no two $x_j$ are the same, the **interpolation polynomial in the Lagrange form** is a linear combination\n",
    "\n",
    "$$L(x):=\\sum\\limits_{j=0}^k y_j\\cdot ℓ_j ( x )$$\n",
    "\n",
    "of **Lagrange basis polynomials**\n",
    "\n",
    "$$ℓ_j(x) :=\\prod_{\\begin{smallmatrix}0\\leq m\\leq k\\\\m\\neq j\\end{smallmatrix}}\\frac{x−x_m}{x_j−x_m} = \\frac{(x−x_0)}{(x_j−x_0)} ⋯ \\frac{(x−x_{j−1})}{(x_j−x_{j−1})}\\cdot \\frac{(x−x_{j+1})}{(x_j−x_{j+1})} ⋯ \\frac{(x−x_{k})}{(x_j−x_{k})}$$ \n",
    "\n",
    "where $0 ≤ j ≤ k$. Note how, given the initial assumption that no two $x_j$ are the same, then (when $m ≠ j$)$x_{j}-x_{m}\\neq 0$, so this expression is always well-defined. This means that pairs $x_{i}=x_{j}$ with $y_{i}\\neq y_{j}$ are not allowed, which is desirable as no interpolation function $L$ such that $y_i = L(x_i)$ would exist; a function can only get one value for each argument $x_i$. On the other hand, if also $y_i = y_j$, then those two points would actually be one single point, but still lead to failure in the interpolation method due to the division by zero.\n",
    "\n",
    "For all $i ≠ j,\\ell_{j}(x)$ includes the term $(x−x_ i)$ in the numerator, so the whole product will be zero at $x=x_i$:\n",
    "\n",
    "$$∀(j≠i):ℓ_j(x_i)=\\prod_{\\begin{smallmatrix}0\\leq m\\leq k\\\\m\\neq j\\end{smallmatrix}}\\frac{x_i−x_m}{x_j−x_m} = \\frac{(x_i−x_0)}{(x_j−x_0)} ⋯ \\frac{(x_i−x_{i})}{(x_j−x_{i})} ⋯ \\frac{(x_i−x_{k})}{(x_j−x_{k})} = 0$$ \n",
    "\n",
    "On the other hand:\n",
    "\n",
    "$$ℓ_j(x_j) :=\\prod_{\\begin{smallmatrix}0\\leq m\\leq k\\\\m\\neq j\\end{smallmatrix}}\\frac{x_i−x_m}{x_j−x_m} = 1$$\n",
    "\n",
    "In other words, all basis polynomials are zero at $x = x_j$, except $ℓ_j\\cdot (x)$, for which it holds that $ℓ_j(x_j) = 1$, because it lacks the $(x−x_j)$ term.\n",
    "\n",
    "It follows that $y_j\\cdot ℓ_j\\cdot(x_j)=y_j$, so at each point $x_j,L(x_j)=y_j+0+0+⋯+0=y_j$, showing that $L$ interpolates the function exactly.\n",
    "___\n",
    "\n",
    "Note that the formulation of the **Lagrange basis polynomials** implies that to be able to fit functions of order $n$ we need $n+1$ samples i.e., for a linear function we require 2 samples, a quadratic function 3 samples, etc.\n",
    "\n",
    "Also note that as more samples are used the higher the order of the **Lagrange basis polynomials** is. This may lead to numerical issues for large sampling sets rendering the results to be unstable. For larger data sets it is therefore often better to creating a moving window for the interpolation. The size of the window can be bigger if the data is smoother. For GNNS ephemeris data we often use a window of 6 samples, that is we use a polynomial fit order of $6-1=5$\n",
    "___\n",
    "\n",
    "### Example\n",
    "\n",
    "Interpolate $f(x) = x^2$ over the range $\\{x\\in\\Re|0 \\leq x \\leq 3\\}$ given the three points:\n",
    "\n",
    "$\\vec x = \\begin{bmatrix}1\\\\2\\\\3\\end{bmatrix} \\quad f(\\vec x) = \\begin{bmatrix}1\\\\4\\\\9\\end{bmatrix}$\n",
    "\n",
    "This leads to the Lagrange basis polynomials\n",
    "\n",
    "$l_0(x) = \\dfrac{x-x_1}{x_0 - x_1}\\cdot\\dfrac{x-x_2}{x_0-x_2} =  \\dfrac{x-2}{1 - 2}\\cdot\\dfrac{x-3}{1-3} $\n",
    "\n",
    "$l_1(x) = \\dfrac{x-x_0}{x_1 - x_0}\\cdot\\dfrac{x-x_2}{x_1-x_2} =  \\dfrac{x-1}{2 - 1}\\cdot\\dfrac{x-3}{2-3} $\n",
    "\n",
    "$l_2(x) = \\dfrac{x-x_0}{x_2 - x_0}\\cdot\\dfrac{x-x_1}{x_2-x_1} =  \\dfrac{x-1}{3 - 1}\\cdot\\dfrac{x-2}{3-2} $\n",
    "\n",
    "Thus the interpolating polynomial:\n",
    "\n",
    "$L(x):=\\sum\\limits_{j=0}^k y_j\\cdot ℓ_j(x) = f(x_0)\\cdot l_0 + f(x_1)\\cdot l_1 + f(x_2) \\cdot l_2 \\Rightarrow$\n",
    "\n",
    "$L(x) = 1\\cdot\\dfrac{x-2}{1 - 2}\\cdot\\dfrac{x-3}{1-3}+4\\cdot \\dfrac{x-1}{2 - 1}\\cdot\\dfrac{x-3}{2-3}+9\\cdot\\dfrac{x-1}{2 - 1}\\cdot\\dfrac{x-2}{3-2} $\n",
    "\n",
    "Although it would be relatively easy to implement Lagrange interpolation ourselves we will make use of the SciPy implementation of Lagrange Polynomials. In the code cell below you will see the example above and an additional example for an order 3 function\n"
   ]
  },
  {
   "cell_type": "code",
   "execution_count": 81,
   "metadata": {
    "scrolled": true
   },
   "outputs": [
    {
     "name": "stdout",
     "output_type": "stream",
     "text": [
      "Example 1) f(x) = x**2\n",
      "x    = [1 2 3]\n",
      "f(x) = [1 4 9]\n",
      "The polynomial value at x = 2: 4.0\n",
      "The polynomial value at x = 3: 9.0\n",
      "The polynomial value at x = 2.4: 5.76\n",
      "The actual value at x = 2.4: 5.76\n",
      " \n",
      "Example 2) f(x) = x**3\n",
      "x    = [0 1 2 3]\n",
      "f(x) = [ 0  1  8 27]\n",
      "The polynomial value at x = 2: 8.0\n",
      "The polynomial value at x = 3: 27.0\n",
      "The polynomial value at x = 2.4: 13.824\n",
      "The actual value at x = 2.4: 13.823999999999998\n",
      " \n",
      "Example 3) f(x) = x**3 + 2*x + 3\n",
      "x    = [0 1 2 3]\n",
      "f(x) = [ 3  6 15 36]\n",
      "The polynomial value at x = 2: 15.0\n",
      "The polynomial value at x = 3: 36.0\n",
      "The polynomial value at x = 2.4: 21.624\n",
      "The actual value at x = 2.4: 21.624\n"
     ]
    }
   ],
   "source": [
    "from scipy.interpolate import lagrange\n",
    "from numpy.polynomial.polynomial import Polynomial\n",
    "\n",
    "print(\"Example 1) f(x) = x**2\")\n",
    "x = np.array([1, 2, 3])\n",
    "f_x = x**2\n",
    "print(\"x    = \"+str(x))\n",
    "print(\"f(x) = \"+str(f_x))\n",
    "# get the tensor of polynomials\n",
    "poly = lagrange(x, f_x)\n",
    "t = Polynomial(poly).coef\n",
    "# print('The polynomial tensor: '+str(t))\n",
    "print('The polynomial value at x = 2: '+str(np.polyval(t,2)))\n",
    "print('The polynomial value at x = 3: '+str(np.polyval(t,3)))\n",
    "print('The polynomial value at x = 2.4: '+str(np.polyval(t,2.4)))\n",
    "print('The actual value at x = 2.4: '+str(2.4**2))\n",
    "\n",
    "print(\" \")\n",
    "print(\"Example 2) f(x) = x**3\")\n",
    "x = np.array([0, 1, 2, 3])\n",
    "f_x = x**3\n",
    "print(\"x    = \"+str(x))\n",
    "print(\"f(x) = \"+str(f_x))\n",
    "# get the tensor of polynomials\n",
    "poly = lagrange(x, f_x)\n",
    "t = Polynomial(poly).coef\n",
    "# print('The polynomial tensor: '+str(t))\n",
    "print('The polynomial value at x = 2: '+str(np.polyval(t,2)))\n",
    "print('The polynomial value at x = 3: '+str(np.polyval(t,3)))\n",
    "print('The polynomial value at x = 2.4: '+str(np.polyval(t,2.4)))\n",
    "print('The actual value at x = 2.4: '+str(2.4**3))\n",
    "\n",
    "print(\" \")\n",
    "print(\"Example 3) f(x) = x**3 + 2*x + 3\")\n",
    "x = np.array([0, 1, 2, 3])\n",
    "f_x = x**3+2*x+3\n",
    "print(\"x    = \"+str(x))\n",
    "print(\"f(x) = \"+str(f_x))\n",
    "# get the tensor of polynomials\n",
    "poly = lagrange(x, f_x)\n",
    "t = Polynomial(poly).coef\n",
    "# print('The polynomial tensor: '+str(t))\n",
    "print('The polynomial value at x = 2: '+str(np.polyval(t,2)))\n",
    "print('The polynomial value at x = 3: '+str(np.polyval(t,3)))\n",
    "print('The polynomial value at x = 2.4: '+str(np.polyval(t,2.4)))\n",
    "print('The actual value at x = 2.4: '+str(2.4**3+2*2.4+3))\n",
    "\n"
   ]
  },
  {
   "cell_type": "markdown",
   "metadata": {},
   "source": [
    "___\n",
    "#### 3.2.0 \n",
    "\n",
    "The code cell below prints the ephemeris data for GPS satellite PRN 20 at the epoch defined in the call to the method `GNSS.add_next_epoch_ephemeris()`. Can you think of an approach to verify that the results are correct?"
   ]
  },
  {
   "cell_type": "code",
   "execution_count": 82,
   "metadata": {
    "scrolled": false
   },
   "outputs": [
    {
     "name": "stdout",
     "output_type": "stream",
     "text": [
      "[20.]\n",
      "[22378936.23624153]\n",
      "[-10758531.50255077]\n",
      "[9271703.96487724]\n"
     ]
    }
   ],
   "source": [
    "gnss.add_next_epoch_ephemeris(2008,7,23,2,1,51,17)\n",
    "\n",
    "ind = gnss.eph_gps_sp3[-1][:,0] == 20 \n",
    "print(gnss.eph_gps_sp3[-1][ind,0])\n",
    "print(gnss.eph_gps_sp3[-1][ind,1])\n",
    "print(gnss.eph_gps_sp3[-1][ind,2])\n",
    "print(gnss.eph_gps_sp3[-1][ind,3])"
   ]
  },
  {
   "cell_type": "code",
   "execution_count": 1,
   "metadata": {},
   "outputs": [
    {
     "name": "stdout",
     "output_type": "stream",
     "text": [
      "I would verify the correctness of the results by checking the satellite position from a precise solution file.s\n"
     ]
    }
   ],
   "source": [
    "q_3_2_0_0 = 'I would verify the correctness of the results by checking the satellite position from a precise solution file.s'\n",
    "\n",
    "print( q_3_2_0_0)"
   ]
  },
  {
   "cell_type": "markdown",
   "metadata": {},
   "source": [
    "    Sample output:\n",
    "        I would verify the correctness of the results by ..."
   ]
  }
 ],
 "metadata": {
  "kernelspec": {
   "display_name": "Python 3 (ipykernel)",
   "language": "python",
   "name": "python3"
  },
  "language_info": {
   "codemirror_mode": {
    "name": "ipython",
    "version": 3
   },
   "file_extension": ".py",
   "mimetype": "text/x-python",
   "name": "python",
   "nbconvert_exporter": "python",
   "pygments_lexer": "ipython3",
   "version": "3.9.7"
  }
 },
 "nbformat": 4,
 "nbformat_minor": 2
}
