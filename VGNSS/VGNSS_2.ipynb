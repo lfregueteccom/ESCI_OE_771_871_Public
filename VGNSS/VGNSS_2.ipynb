{
 "cells": [
  {
   "cell_type": "markdown",
   "metadata": {},
   "source": [
    "\n",
    "\n",
    "<img align=\"left\" width=\"30%\" style=\"padding-right:10px;\" src=\"../Images/Ccom.png\">\n",
    "\n",
    "___\n",
    "# Computational Problem Set\n",
    "# Being a VGNSS Receiver\n",
    "\n",
    "## Step 2: Getting Ephemeris Data\n",
    "\n",
    "## Semme J. Dijkstra & David Wells 2019\n",
    "\n",
    "<div class=\"footer\">\n",
    "    <br><p>VGNSS Step 2: Semme J. Dijkstra February 5 20, 2020\n",
    "    </p>\n",
    "</div> \n"
   ]
  },
  {
   "cell_type": "code",
   "execution_count": 1,
   "metadata": {},
   "outputs": [
    {
     "name": "stdout",
     "output_type": "stream",
     "text": [
      "/home/jupyter-lfreg/ESCI_OE_771_871_Public\n"
     ]
    }
   ],
   "source": [
    "%load_ext autoreload\n",
    "%autoreload 2\n",
    "\n",
    "import sys\n",
    "import os\n",
    "import numpy as np\n",
    "\n",
    "from numpy import cos,pi,sin,pi,arccos, tan, arctan\n",
    "from datetime import datetime, timedelta\n",
    "from pathlib import Path\n",
    "\n",
    "vgnss_path=Path('../') # Get the path to the folder containing the mycode folder\n",
    "\n",
    "print(vgnss_path.resolve())\n",
    "sys.path.append(str(vgnss_path.resolve())) # add the folder to the list of paths \n",
    "\n",
    "from mycode.gnss import GNSS\n",
    "from mycode.sp3 import SP3\n",
    "# from mycode.lsq import LSQ\n",
    "# from mycode.ephemeris import Ephemeris"
   ]
  },
  {
   "cell_type": "markdown",
   "metadata": {},
   "source": [
    "Convert code to .py file"
   ]
  },
  {
   "cell_type": "markdown",
   "metadata": {},
   "source": [
    "___\n",
    "## 2.0 Ephemeris Data Retrieval\n",
    "\n",
    "### Objective:\n",
    "\n",
    "Get familiar with SP3 ephemeris files and reading Python code\n",
    "\n",
    "### Assignment:\n",
    "\n",
    "Answer a series of question regarding the SP3 file format and the Python code presented to you to parse Sp3 format files.\n",
    "\n",
    "### Deliverable:\n",
    "\n",
    "The answers requested below.\n",
    "\n",
    "\n",
    "<div class=\"footer\">\n",
    "    <br><p>VGNSS Step 0: Semme J. Dijkstra December 20, 2019</p>\n",
    "</div> "
   ]
  },
  {
   "cell_type": "markdown",
   "metadata": {},
   "source": [
    "# Link to source code directory\n",
    "\n",
    "[source code](../mycode)"
   ]
  },
  {
   "cell_type": "code",
   "execution_count": 2,
   "metadata": {},
   "outputs": [
    {
     "name": "stdout",
     "output_type": "stream",
     "text": [
      "Attempting to download precise ephemerides file: igs13381.sp3\n",
      "Reading SP3 file: /home/jupyter-lfreg/ESCI_OE_771_871_Public/mydata/igs13381.sp3\n",
      "Attempting to download precise ephemerides file: igl13381.sp3\n",
      "Reading SP3 file: /home/jupyter-lfreg/ESCI_OE_771_871_Public/mydata/igl13381.sp3\n",
      "Downloading ephemeris file: brdc2410.05n\n",
      "pub/gps/data/daily/2005/brdc/\n",
      "Reading rinex nav file: /home/jupyter-lfreg/ESCI_OE_771_871_Public/mydata/brdc2410.05n\n",
      "Attempting to download precise ephemerides file: igs20400.sp3\n",
      "Reading SP3 file: /home/jupyter-lfreg/ESCI_OE_771_871_Public/mydata/igs20400.sp3\n",
      "Attempting to download precise ephemerides file: igl20400.sp3\n",
      "Reading SP3 file: /home/jupyter-lfreg/ESCI_OE_771_871_Public/mydata/igl20400.sp3\n",
      "Downloading ephemeris file: brdc0410.19n\n",
      "pub/gps/data/daily/2019/brdc/\n",
      "Reading rinex nav file: /home/jupyter-lfreg/ESCI_OE_771_871_Public/mydata/brdc0410.19n\n"
     ]
    }
   ],
   "source": [
    "# VGNSS 2.0\n",
    "\n",
    "data_path = os.path.join(vgnss_path, \"mydata\")\n",
    "data_path = os.path.abspath(data_path)\n",
    "gnss = GNSS( data_path)\n",
    "gnss.add_next_epoch_ephemeris(2005,8,29,15,0,0,342380)\n",
    "if gnss.gnss_weeks[-1] < 979:\n",
    "    error( 'epoch predates GLONASS, please pick a later date')\n",
    "gnss.add_next_epoch_ephemeris(2019,2,10,15,0,1,120002)\n"
   ]
  },
  {
   "cell_type": "markdown",
   "metadata": {},
   "source": [
    "Consider the code given. All the code required to run this is provided to you. To test your ability to read code and to understand the way GPS time works lets do some analysis of the code fragment above.\n",
    "\n",
    "#### 2.0.0 In what class method is the datetime converted to a GNSS week and day number. \n",
    "\n",
    "Fill in the answer below as follows:\n",
    "\n",
    "    q_0_0 = 'class.method'\n",
    "    \n",
    "In the code cell replace the words class and method in with the name of class and method used respectively. Make sure that the answer is *not* commented out"
   ]
  },
  {
   "cell_type": "code",
   "execution_count": null,
   "metadata": {},
   "outputs": [],
   "source": [
    "q_0_0 = 'gnss.add_next_epoch_ephemeris' # Replace the words class and method with the name of class and method used"
   ]
  },
  {
   "cell_type": "markdown",
   "metadata": {},
   "source": [
    "#### 2.0.1 What does the GNSS week number represent?\n",
    "\n",
    "In the code cell below complete the following answer:\n",
    "\n",
    "    q_2_0_1 = 'The GPS Week is the number ...'\n",
    "    \n",
    "Make sure that the answer is *not* commented out"
   ]
  },
  {
   "cell_type": "code",
   "execution_count": null,
   "metadata": {},
   "outputs": [],
   "source": [
    "q_2_0_1 = 'The GPS Week is the number of weeks counting from January,6, 1980 (GPS starting epoch) to the current GPS epoch.'"
   ]
  },
  {
   "cell_type": "markdown",
   "metadata": {},
   "source": [
    "#### 2.0.2 What does the GNSS time represent?\n",
    "\n",
    "In the code cell below complete the following answer:\n",
    "\n",
    "    q_2_0_2 = 'The GPS Time is the number ...'\n",
    "    \n",
    "Make sure that the answer is *not* commented out"
   ]
  },
  {
   "cell_type": "code",
   "execution_count": null,
   "metadata": {},
   "outputs": [],
   "source": [
    "q_2_0_2 = 'The GPS Time is the number of seconds past from the beginning of the current GPS week.'"
   ]
  },
  {
   "cell_type": "markdown",
   "metadata": {},
   "source": [
    "#### 2.1.0 The method gnss.add_next_epoch_ephemeris() adds ephemeris data, what are the domain names of the data servers used?\n",
    "\n",
    "In the code cell below complete the following answer:\n",
    "\n",
    "    q_2_1_0 = 'The domain names of the ephemeris data servers are  ...'\n",
    "    \n",
    "Make sure that the answer is *not* commented out"
   ]
  },
  {
   "cell_type": "code",
   "execution_count": null,
   "metadata": {},
   "outputs": [],
   "source": [
    "q_2_1_0 = 'The domain name of the ephemeris data servers are gdc.cddis.eosdis.nasa.gov'"
   ]
  },
  {
   "cell_type": "markdown",
   "metadata": {},
   "source": [
    "#### 2.1.1 For the SP3 file format what does SP3 stand for?\n",
    "\n",
    "Use your internet searching skills to find the answer\n",
    "\n",
    "In the code cell below complete the following answer:\n",
    "\n",
    "    q_2_1_1_0 = 'SP3 stands for  '\n",
    "    q_2_1_1_1 = 'I found the answer at '\n",
    "    \n",
    "Make sure that the answer is *not* commented out"
   ]
  },
  {
   "cell_type": "code",
   "execution_count": null,
   "metadata": {},
   "outputs": [],
   "source": [
    "q_2_1_1 = 'SP3 stands for  Standard Product # 3'\n",
    "q_2_1_1_1 = 'I found the answer at https://files.igs.org/pub/data/format/sp3_docu.txt'"
   ]
  },
  {
   "cell_type": "markdown",
   "metadata": {},
   "source": [
    "#### 2.1.2 SP3 files use a preferred naming convention; what is the convention?\n",
    "\n",
    "The server from question 2.1.0 uses this convention, thus we can easily predict the name of the data file that we need. Note that this is one of the benefits of following convention.\n",
    "\n",
    "In the code cell below complete the following answer:\n",
    "\n",
    "    q_2_1_2_0 = 'SP3 file names are formed by ...'\n",
    "    q_2_1_2_1 = 'I found the answer at '\n",
    "    \n",
    "Make sure that the answer is *not* commented out"
   ]
  },
  {
   "cell_type": "code",
   "execution_count": 11,
   "metadata": {},
   "outputs": [],
   "source": [
    "q_2_1_2_0 = 'SP3 file names are formed by the xxxWWWWD.sp3.Z string where xxx = IGS Analysis Center; WWWW = GPS week; \\\n",
    " D = day of the week; sp3 = data format; Z = data compression format. In case the last digit of \\\n",
    " the xxx string is a \"l\", it refers to GLONASS orbit solution. This answer is for the case of final orbit solution\\\n",
    " if the last digits of xxx string is equal to \"r\" or \"u\", the file refers to rapid or ultra-rapid solutions.'\n",
    "q_2_1_2_1 = 'I found the answer at https://sopac-csrc.ucsd.edu/index.php/fps-orbits/'"
   ]
  },
  {
   "cell_type": "markdown",
   "metadata": {},
   "source": [
    "#### 2.1.3 There are several SP3 format versions, what are they?\n",
    "\n",
    "In the code cell below complete the following answer:\n",
    "\n",
    "    q_2_1_3_0 = 'The following SP3 versions exist ...'\n",
    "    q_2_1_3_1 = 'I found the answer at '\n",
    "    \n",
    "Make sure that the answer is *not* commented out"
   ]
  },
  {
   "cell_type": "code",
   "execution_count": null,
   "metadata": {},
   "outputs": [],
   "source": [
    "q_2_1_3_0 = 'The following SP3 versions exist the versions a-d, totalizing 4 versions. The most recent version,d, was proposed\\\n",
    "                proposed in 2016.'\n",
    "q_2_1_3_1 = 'I found the answer at https://gssc.esa.int/navipedia/index.php/Interfaces_and_Protocols#:~:text=SP3-,SP3%20Format,version%20d%2C%20proposed%20in%202016'"
   ]
  },
  {
   "cell_type": "markdown",
   "metadata": {},
   "source": [
    "#### 2.1.4 In the code provided the SP3 file format version is checked, where?\n",
    "\n",
    "Where in the code provided is the file version checked:\n",
    "\n",
    "    q_2_1_4 = 'class.method'\n",
    "\n",
    "Make sure that the answer is *not* commented out"
   ]
  },
  {
   "cell_type": "code",
   "execution_count": null,
   "metadata": {},
   "outputs": [],
   "source": [
    "q_2_1_4 = 'sp3.read'"
   ]
  },
  {
   "cell_type": "markdown",
   "metadata": {},
   "source": [
    "#### 2.1.5 in question 2.1.0 You identified the domain of the data server, does it belong to the same organization that produced the data files?\n",
    "\n",
    "If the answer is no provide the name of the name of the organization that created the data files.\n",
    "\n",
    "    q_2_1_5 = 'The data captured from domain ... was produced by ...'"
   ]
  },
  {
   "cell_type": "code",
   "execution_count": null,
   "metadata": {},
   "outputs": [],
   "source": [
    "q_2_1_5 = 'The data captured from domain gdc.cddis.eosdis.nasa.gov was produced by IGS (International GNSS Service)'"
   ]
  },
  {
   "cell_type": "markdown",
   "metadata": {},
   "source": [
    "#### 2.1.6 Are there ephemeris data from other organizations in the same location?\n",
    "\n",
    "    q_2_1_6 = 'The data on the domain stems from a single/ multiple source(s)"
   ]
  },
  {
   "cell_type": "code",
   "execution_count": null,
   "metadata": {},
   "outputs": [],
   "source": [
    "q_2_1_6 = 'The data on the domain stems from a multiple sources'"
   ]
  },
  {
   "cell_type": "markdown",
   "metadata": {},
   "source": [
    "#### 2.1.7 If the various ephemeris data files describe the same satellites for the same epochs why do you think that there are (small) differences between the files from different organizations?\n",
    "\n",
    "Hint: How do you think Ephemeris data are created by the organizations?\n",
    "\n",
    "    q_2_1_7 = 'The differences are due to ...'"
   ]
  },
  {
   "cell_type": "code",
   "execution_count": null,
   "metadata": {},
   "outputs": [],
   "source": [
    "q_2_1_7 = 'The differences are due to different models, algoritms, and reference frame used, for example.'"
   ]
  },
  {
   "cell_type": "markdown",
   "metadata": {},
   "source": [
    "#### 2.1.8 Find a description of the various SP3 file formats as text files, download them and place them in the Documentation folder of this course on the ePOM server\n",
    "\n",
    "**Note that you will probably not be able to find the description of one of the formats as it is essentially the same as its predecessor.** The names of the other formats hint at its existence..."
   ]
  },
  {
   "cell_type": "markdown",
   "metadata": {},
   "source": [
    "#### 2.2.0 What are the file types allowed by the most current SP3 format version?\n",
    "\n",
    "To provide this answer **you will have to read** the format description document, it defines what a file type is.\n",
    "\n",
    "    q_2_2_0 = 'SP3 allowed file types are:'\n",
    "\n",
    "Make sure that the answer is *not* commented out"
   ]
  },
  {
   "cell_type": "code",
   "execution_count": null,
   "metadata": {},
   "outputs": [],
   "source": [
    "q_2_2_0 = 'SP3 allowed file types are: G,M,R,L,S,I,E,C,J that are respectively related to GPS, mixed files, GLONASS, LEO, SBAS,\\\n",
    "IRNSS, Galileo, BeiDou, and QZSS only files.'"
   ]
  },
  {
   "cell_type": "markdown",
   "metadata": {},
   "source": [
    "#### 2.2.1 Does the code provided read all of these file types?\n",
    "\n",
    "Where in the code provided is the file version checked:\n",
    "\n",
    "    q_2_2_1_0 = 'The code provided does/does not omit the following file types:'\n",
    "    q_2_2_1_1 = 'The code provided checks the file types in the following locations (for each SP3 version): class.method'\n",
    "\n",
    "Make sure that the answer is *not* commented out"
   ]
  },
  {
   "cell_type": "code",
   "execution_count": null,
   "metadata": {},
   "outputs": [],
   "source": [
    "q_2_2_1_0 = 'The code provided does omit the following file types: all the file types listed on q_2_2_0 \\\n",
    "except gps,glonass if you consider the method read_sp3_c.'\n",
    "q_2_2_1_1 = 'The code provided checks the file types in the following locations (for each SP3 version): sp3.read_sp3_x, being \\ \n",
    "x = [a,b,c].'"
   ]
  },
  {
   "cell_type": "markdown",
   "metadata": {},
   "source": [
    "##### 2.2.2: BONUS In the latest version of the SP3 format the uncertainties can be specified in three ways, do you understand why?\n",
    "\n",
    "Answering this question will not lead to bonus points, but eternal glory is not out of the question...\n",
    "\n",
    "Although we have mentioned propagation of uncertainty in class we have not yet discussed it in detail. Understanding this at this point in time is not expected. If you do not know the answer do **NOT** spend a lot of time on answering it - just answer 'I do not know'.\n",
    "\n",
    "    q_2_2_2= 'There are three representations of uncertainty because ...\n",
    "\n",
    "Make sure that the answer is *not* commented out"
   ]
  },
  {
   "cell_type": "code",
   "execution_count": null,
   "metadata": {},
   "outputs": [],
   "source": [
    "q_2_2_2 = 'There are three representations of uncertainty because the uncertainty set is related to the general uncertainty for \\\n",
    "the satellites orbit regarding the position, velocity and clock error and it might be related to \\\n",
    "to the uncertainties inherited from the almanac. The second set is the uncertainty related to the calculation of \\\n",
    " each positioning components [x,y,z,t] at the epoch.\\\n",
    " Lastly, the third set would be something I would considered as the covariance matrix between all the positioning components,\\\n",
    " which provides the uncertainties of one variable to another considered that one variable error(uncertainty) is not independent \\\n",
    " of the other ones.'"
   ]
  }
 ],
 "metadata": {
  "kernelspec": {
   "display_name": "Python 3 (ipykernel)",
   "language": "python",
   "name": "python3"
  },
  "language_info": {
   "codemirror_mode": {
    "name": "ipython",
    "version": 3
   },
   "file_extension": ".py",
   "mimetype": "text/x-python",
   "name": "python",
   "nbconvert_exporter": "python",
   "pygments_lexer": "ipython3",
   "version": "3.9.7"
  }
 },
 "nbformat": 4,
 "nbformat_minor": 2
}
